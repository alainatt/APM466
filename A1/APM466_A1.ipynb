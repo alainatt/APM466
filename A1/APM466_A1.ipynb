{
 "cells": [
  {
   "cell_type": "code",
   "metadata": {
    "ExecuteTime": {
     "end_time": "2025-01-31T06:22:49.133454Z",
     "start_time": "2025-01-31T06:22:49.124109Z"
    }
   },
   "source": [
    "import numpy as np\n",
    "import pandas as pd\n",
    "import sys\n",
    "#!{sys.executable} -m pip install plotly\n",
    "import plotly.graph_objects as go\n",
    "from scipy.optimize import newton\n",
    "from scipy.interpolate import interp1d\n",
    "import numpy_financial as npf"
   ],
   "outputs": [],
   "execution_count": 220
  },
  {
   "metadata": {},
   "cell_type": "markdown",
   "source": "Load Data for the selected 11 Bonds"
  },
  {
   "cell_type": "code",
   "metadata": {
    "ExecuteTime": {
     "end_time": "2025-01-31T06:22:49.184119Z",
     "start_time": "2025-01-31T06:22:49.146422Z"
    }
   },
   "source": [
    "data = pd.read_csv(\"10bonds_data.csv\")\n",
    "data"
   ],
   "outputs": [
    {
     "data": {
      "text/plain": [
       "                      Issuer Coupon          ISIN  Issue Date Maturity Date  \\\n",
       "0   Canada, Government of...  1.25%  CA135087K528  10/11/2019      3/1/2025   \n",
       "1   Canada, Government of...  0.50%  CA135087K940    4/3/2020      9/1/2025   \n",
       "2   Canada, Government of...  0.25%  CA135087L518   10/9/2020      3/1/2026   \n",
       "3   Canada, Government of...  1.00%  CA135087L930   4/16/2021      9/1/2026   \n",
       "4   Canada, Government of...  1.25%  CA135087M847  10/15/2021      3/1/2027   \n",
       "5   Canada, Government of...  2.75%  CA135087N837   5/13/2022      9/1/2027   \n",
       "6   Canada, Government of...  3.50%  CA135087P576  10/21/2022      3/1/2028   \n",
       "7   Canada, Government of...  3.25%  CA135087Q491   4/21/2023      9/1/2028   \n",
       "8   Canada, Government of...  4.00%  CA135087Q988  10/13/2023      3/1/2029   \n",
       "9   Canada, Government of...  3.50%  CA135087R895    4/8/2024      9/1/2029   \n",
       "10  Canada, Government of...  2.75%  CA135087S471   10/3/2024      3/1/2030   \n",
       "\n",
       "   Last Coupon Date  2025-01-06  2025-01-07  2025-01-08  2025-01-09  \\\n",
       "0          9/1/2024    99.73000    99.73000    99.74000    99.73000   \n",
       "1          9/1/2024    98.40000    98.41000    98.40000    98.42000   \n",
       "2          9/1/2024    96.99000    96.98000    96.97000    97.00000   \n",
       "3          9/1/2024    97.01000    96.99000    97.00000    97.03000   \n",
       "4          9/1/2024    96.62000    96.59000    96.58000    96.63000   \n",
       "5          9/1/2024    99.63000    99.56000    99.54000    99.58000   \n",
       "6          9/1/2024   101.82000   101.82000   101.70000   101.72000   \n",
       "7          9/1/2024   101.10000   101.14000   100.99000   100.94000   \n",
       "8          9/1/2024   104.07000   104.01000   103.90000   103.87000   \n",
       "9          9/1/2024   102.22000   102.14000   102.04000   101.98000   \n",
       "10         9/1/2024    98.81000    98.60000    98.53000    98.54000   \n",
       "\n",
       "    2025-01-10  2025-01-13  2025-01-14  2025-01-15  2025-01-16  2025-01-17  \\\n",
       "0     99.74000    99.73000    99.73000    99.77000    99.78000    99.80000   \n",
       "1     98.37000    98.36000    98.36000    98.40000    98.47000    98.50000   \n",
       "2     96.90000    96.91000    96.80000    96.90000    97.01000    97.06000   \n",
       "3     96.86000    96.77000    96.71000    96.85000    97.03000    97.07000   \n",
       "4     96.39000    96.28000    96.19000    96.36000    96.60000    96.64000   \n",
       "5     99.27000    99.13000    99.02000    99.20000    99.50000    99.53000   \n",
       "6    101.52000   101.26000   101.02000   101.24000   101.58000   101.65000   \n",
       "7    100.79000   100.49000   100.19000   100.42000   100.92000   101.02000   \n",
       "8    103.53000   103.29000   102.99000   103.24000   103.80000   103.90000   \n",
       "9    101.59000   101.28000   101.00000   101.27000   101.85000   101.97000   \n",
       "10    97.96000    97.61000    97.38000    97.76000    98.40000    98.47000   \n",
       "\n",
       "                                                                                  Bond URL  \n",
       "0   https://markets.businessinsider.com/bonds/canadacd-bonds_201925-Bond-2025-ca135087k528  \n",
       "1   https://markets.businessinsider.com/bonds/canadacd-bonds_202025-Bond-2025-ca135087k940  \n",
       "2   https://markets.businessinsider.com/bonds/canadacd-bonds_202026-Bond-2026-ca135087l518  \n",
       "3   https://markets.businessinsider.com/bonds/canadacd-bonds_202126-Bond-2026-ca135087l930  \n",
       "4   https://markets.businessinsider.com/bonds/canadacd-bonds_202127-Bond-2027-ca135087m847  \n",
       "5   https://markets.businessinsider.com/bonds/canadacd-bonds_202227-Bond-2027-ca135087n837  \n",
       "6   https://markets.businessinsider.com/bonds/canadacd-bonds_202228-Bond-2028-ca135087p576  \n",
       "7   https://markets.businessinsider.com/bonds/canadacd-bonds_202328-Bond-2028-ca135087q491  \n",
       "8   https://markets.businessinsider.com/bonds/canadacd-bonds_202329-Bond-2029-ca135087q988  \n",
       "9   https://markets.businessinsider.com/bonds/canadacd-bonds_202429-Bond-2029-ca135087r895  \n",
       "10  https://markets.businessinsider.com/bonds/canadacd-bonds_202430-Bond-2030-ca135087s471  "
      ],
      "text/html": [
       "<div>\n",
       "<style scoped>\n",
       "    .dataframe tbody tr th:only-of-type {\n",
       "        vertical-align: middle;\n",
       "    }\n",
       "\n",
       "    .dataframe tbody tr th {\n",
       "        vertical-align: top;\n",
       "    }\n",
       "\n",
       "    .dataframe thead th {\n",
       "        text-align: right;\n",
       "    }\n",
       "</style>\n",
       "<table border=\"1\" class=\"dataframe\">\n",
       "  <thead>\n",
       "    <tr style=\"text-align: right;\">\n",
       "      <th></th>\n",
       "      <th>Issuer</th>\n",
       "      <th>Coupon</th>\n",
       "      <th>ISIN</th>\n",
       "      <th>Issue Date</th>\n",
       "      <th>Maturity Date</th>\n",
       "      <th>Last Coupon Date</th>\n",
       "      <th>2025-01-06</th>\n",
       "      <th>2025-01-07</th>\n",
       "      <th>2025-01-08</th>\n",
       "      <th>2025-01-09</th>\n",
       "      <th>2025-01-10</th>\n",
       "      <th>2025-01-13</th>\n",
       "      <th>2025-01-14</th>\n",
       "      <th>2025-01-15</th>\n",
       "      <th>2025-01-16</th>\n",
       "      <th>2025-01-17</th>\n",
       "      <th>Bond URL</th>\n",
       "    </tr>\n",
       "  </thead>\n",
       "  <tbody>\n",
       "    <tr>\n",
       "      <th>0</th>\n",
       "      <td>Canada, Government of...</td>\n",
       "      <td>1.25%</td>\n",
       "      <td>CA135087K528</td>\n",
       "      <td>10/11/2019</td>\n",
       "      <td>3/1/2025</td>\n",
       "      <td>9/1/2024</td>\n",
       "      <td>99.73000</td>\n",
       "      <td>99.73000</td>\n",
       "      <td>99.74000</td>\n",
       "      <td>99.73000</td>\n",
       "      <td>99.74000</td>\n",
       "      <td>99.73000</td>\n",
       "      <td>99.73000</td>\n",
       "      <td>99.77000</td>\n",
       "      <td>99.78000</td>\n",
       "      <td>99.80000</td>\n",
       "      <td>https://markets.businessinsider.com/bonds/canadacd-bonds_201925-Bond-2025-ca135087k528</td>\n",
       "    </tr>\n",
       "    <tr>\n",
       "      <th>1</th>\n",
       "      <td>Canada, Government of...</td>\n",
       "      <td>0.50%</td>\n",
       "      <td>CA135087K940</td>\n",
       "      <td>4/3/2020</td>\n",
       "      <td>9/1/2025</td>\n",
       "      <td>9/1/2024</td>\n",
       "      <td>98.40000</td>\n",
       "      <td>98.41000</td>\n",
       "      <td>98.40000</td>\n",
       "      <td>98.42000</td>\n",
       "      <td>98.37000</td>\n",
       "      <td>98.36000</td>\n",
       "      <td>98.36000</td>\n",
       "      <td>98.40000</td>\n",
       "      <td>98.47000</td>\n",
       "      <td>98.50000</td>\n",
       "      <td>https://markets.businessinsider.com/bonds/canadacd-bonds_202025-Bond-2025-ca135087k940</td>\n",
       "    </tr>\n",
       "    <tr>\n",
       "      <th>2</th>\n",
       "      <td>Canada, Government of...</td>\n",
       "      <td>0.25%</td>\n",
       "      <td>CA135087L518</td>\n",
       "      <td>10/9/2020</td>\n",
       "      <td>3/1/2026</td>\n",
       "      <td>9/1/2024</td>\n",
       "      <td>96.99000</td>\n",
       "      <td>96.98000</td>\n",
       "      <td>96.97000</td>\n",
       "      <td>97.00000</td>\n",
       "      <td>96.90000</td>\n",
       "      <td>96.91000</td>\n",
       "      <td>96.80000</td>\n",
       "      <td>96.90000</td>\n",
       "      <td>97.01000</td>\n",
       "      <td>97.06000</td>\n",
       "      <td>https://markets.businessinsider.com/bonds/canadacd-bonds_202026-Bond-2026-ca135087l518</td>\n",
       "    </tr>\n",
       "    <tr>\n",
       "      <th>3</th>\n",
       "      <td>Canada, Government of...</td>\n",
       "      <td>1.00%</td>\n",
       "      <td>CA135087L930</td>\n",
       "      <td>4/16/2021</td>\n",
       "      <td>9/1/2026</td>\n",
       "      <td>9/1/2024</td>\n",
       "      <td>97.01000</td>\n",
       "      <td>96.99000</td>\n",
       "      <td>97.00000</td>\n",
       "      <td>97.03000</td>\n",
       "      <td>96.86000</td>\n",
       "      <td>96.77000</td>\n",
       "      <td>96.71000</td>\n",
       "      <td>96.85000</td>\n",
       "      <td>97.03000</td>\n",
       "      <td>97.07000</td>\n",
       "      <td>https://markets.businessinsider.com/bonds/canadacd-bonds_202126-Bond-2026-ca135087l930</td>\n",
       "    </tr>\n",
       "    <tr>\n",
       "      <th>4</th>\n",
       "      <td>Canada, Government of...</td>\n",
       "      <td>1.25%</td>\n",
       "      <td>CA135087M847</td>\n",
       "      <td>10/15/2021</td>\n",
       "      <td>3/1/2027</td>\n",
       "      <td>9/1/2024</td>\n",
       "      <td>96.62000</td>\n",
       "      <td>96.59000</td>\n",
       "      <td>96.58000</td>\n",
       "      <td>96.63000</td>\n",
       "      <td>96.39000</td>\n",
       "      <td>96.28000</td>\n",
       "      <td>96.19000</td>\n",
       "      <td>96.36000</td>\n",
       "      <td>96.60000</td>\n",
       "      <td>96.64000</td>\n",
       "      <td>https://markets.businessinsider.com/bonds/canadacd-bonds_202127-Bond-2027-ca135087m847</td>\n",
       "    </tr>\n",
       "    <tr>\n",
       "      <th>5</th>\n",
       "      <td>Canada, Government of...</td>\n",
       "      <td>2.75%</td>\n",
       "      <td>CA135087N837</td>\n",
       "      <td>5/13/2022</td>\n",
       "      <td>9/1/2027</td>\n",
       "      <td>9/1/2024</td>\n",
       "      <td>99.63000</td>\n",
       "      <td>99.56000</td>\n",
       "      <td>99.54000</td>\n",
       "      <td>99.58000</td>\n",
       "      <td>99.27000</td>\n",
       "      <td>99.13000</td>\n",
       "      <td>99.02000</td>\n",
       "      <td>99.20000</td>\n",
       "      <td>99.50000</td>\n",
       "      <td>99.53000</td>\n",
       "      <td>https://markets.businessinsider.com/bonds/canadacd-bonds_202227-Bond-2027-ca135087n837</td>\n",
       "    </tr>\n",
       "    <tr>\n",
       "      <th>6</th>\n",
       "      <td>Canada, Government of...</td>\n",
       "      <td>3.50%</td>\n",
       "      <td>CA135087P576</td>\n",
       "      <td>10/21/2022</td>\n",
       "      <td>3/1/2028</td>\n",
       "      <td>9/1/2024</td>\n",
       "      <td>101.82000</td>\n",
       "      <td>101.82000</td>\n",
       "      <td>101.70000</td>\n",
       "      <td>101.72000</td>\n",
       "      <td>101.52000</td>\n",
       "      <td>101.26000</td>\n",
       "      <td>101.02000</td>\n",
       "      <td>101.24000</td>\n",
       "      <td>101.58000</td>\n",
       "      <td>101.65000</td>\n",
       "      <td>https://markets.businessinsider.com/bonds/canadacd-bonds_202228-Bond-2028-ca135087p576</td>\n",
       "    </tr>\n",
       "    <tr>\n",
       "      <th>7</th>\n",
       "      <td>Canada, Government of...</td>\n",
       "      <td>3.25%</td>\n",
       "      <td>CA135087Q491</td>\n",
       "      <td>4/21/2023</td>\n",
       "      <td>9/1/2028</td>\n",
       "      <td>9/1/2024</td>\n",
       "      <td>101.10000</td>\n",
       "      <td>101.14000</td>\n",
       "      <td>100.99000</td>\n",
       "      <td>100.94000</td>\n",
       "      <td>100.79000</td>\n",
       "      <td>100.49000</td>\n",
       "      <td>100.19000</td>\n",
       "      <td>100.42000</td>\n",
       "      <td>100.92000</td>\n",
       "      <td>101.02000</td>\n",
       "      <td>https://markets.businessinsider.com/bonds/canadacd-bonds_202328-Bond-2028-ca135087q491</td>\n",
       "    </tr>\n",
       "    <tr>\n",
       "      <th>8</th>\n",
       "      <td>Canada, Government of...</td>\n",
       "      <td>4.00%</td>\n",
       "      <td>CA135087Q988</td>\n",
       "      <td>10/13/2023</td>\n",
       "      <td>3/1/2029</td>\n",
       "      <td>9/1/2024</td>\n",
       "      <td>104.07000</td>\n",
       "      <td>104.01000</td>\n",
       "      <td>103.90000</td>\n",
       "      <td>103.87000</td>\n",
       "      <td>103.53000</td>\n",
       "      <td>103.29000</td>\n",
       "      <td>102.99000</td>\n",
       "      <td>103.24000</td>\n",
       "      <td>103.80000</td>\n",
       "      <td>103.90000</td>\n",
       "      <td>https://markets.businessinsider.com/bonds/canadacd-bonds_202329-Bond-2029-ca135087q988</td>\n",
       "    </tr>\n",
       "    <tr>\n",
       "      <th>9</th>\n",
       "      <td>Canada, Government of...</td>\n",
       "      <td>3.50%</td>\n",
       "      <td>CA135087R895</td>\n",
       "      <td>4/8/2024</td>\n",
       "      <td>9/1/2029</td>\n",
       "      <td>9/1/2024</td>\n",
       "      <td>102.22000</td>\n",
       "      <td>102.14000</td>\n",
       "      <td>102.04000</td>\n",
       "      <td>101.98000</td>\n",
       "      <td>101.59000</td>\n",
       "      <td>101.28000</td>\n",
       "      <td>101.00000</td>\n",
       "      <td>101.27000</td>\n",
       "      <td>101.85000</td>\n",
       "      <td>101.97000</td>\n",
       "      <td>https://markets.businessinsider.com/bonds/canadacd-bonds_202429-Bond-2029-ca135087r895</td>\n",
       "    </tr>\n",
       "    <tr>\n",
       "      <th>10</th>\n",
       "      <td>Canada, Government of...</td>\n",
       "      <td>2.75%</td>\n",
       "      <td>CA135087S471</td>\n",
       "      <td>10/3/2024</td>\n",
       "      <td>3/1/2030</td>\n",
       "      <td>9/1/2024</td>\n",
       "      <td>98.81000</td>\n",
       "      <td>98.60000</td>\n",
       "      <td>98.53000</td>\n",
       "      <td>98.54000</td>\n",
       "      <td>97.96000</td>\n",
       "      <td>97.61000</td>\n",
       "      <td>97.38000</td>\n",
       "      <td>97.76000</td>\n",
       "      <td>98.40000</td>\n",
       "      <td>98.47000</td>\n",
       "      <td>https://markets.businessinsider.com/bonds/canadacd-bonds_202430-Bond-2030-ca135087s471</td>\n",
       "    </tr>\n",
       "  </tbody>\n",
       "</table>\n",
       "</div>"
      ]
     },
     "execution_count": 221,
     "metadata": {},
     "output_type": "execute_result"
    }
   ],
   "execution_count": 221
  },
  {
   "metadata": {},
   "cell_type": "markdown",
   "source": "Suggested Naming Convention"
  },
  {
   "metadata": {
    "ExecuteTime": {
     "end_time": "2025-01-31T06:22:49.271278Z",
     "start_time": "2025-01-31T06:22:49.259250Z"
    }
   },
   "cell_type": "code",
   "source": [
    "name = data.copy()\n",
    "name[\"coupon_rate\"] = data[\"Coupon\"].str.rstrip('%').astype(float).astype(str)\n",
    "\n",
    "from datetime import datetime\n",
    "name[\"Maturity\"] = pd.to_datetime(name[\"Maturity Date\"], format=\"%m/%d/%Y\").dt.strftime(\"%b %y\")\n",
    "name[\"Name\"] = \"CAN \" + name[\"coupon_rate\"] + \" \" + name[\"Maturity\"]\n",
    "\n",
    "bonds_11 = pd.DataFrame({\n",
    "    \"ISIN\": name[\"ISIN\"],\n",
    "    \"Name\": name[\"Name\"]\n",
    "})\n",
    "bonds_11\n"
   ],
   "outputs": [
    {
     "data": {
      "text/plain": [
       "            ISIN             Name\n",
       "0   CA135087K528  CAN 1.25 Mar 25\n",
       "1   CA135087K940   CAN 0.5 Sep 25\n",
       "2   CA135087L518  CAN 0.25 Mar 26\n",
       "3   CA135087L930   CAN 1.0 Sep 26\n",
       "4   CA135087M847  CAN 1.25 Mar 27\n",
       "5   CA135087N837  CAN 2.75 Sep 27\n",
       "6   CA135087P576   CAN 3.5 Mar 28\n",
       "7   CA135087Q491  CAN 3.25 Sep 28\n",
       "8   CA135087Q988   CAN 4.0 Mar 29\n",
       "9   CA135087R895   CAN 3.5 Sep 29\n",
       "10  CA135087S471  CAN 2.75 Mar 30"
      ],
      "text/html": [
       "<div>\n",
       "<style scoped>\n",
       "    .dataframe tbody tr th:only-of-type {\n",
       "        vertical-align: middle;\n",
       "    }\n",
       "\n",
       "    .dataframe tbody tr th {\n",
       "        vertical-align: top;\n",
       "    }\n",
       "\n",
       "    .dataframe thead th {\n",
       "        text-align: right;\n",
       "    }\n",
       "</style>\n",
       "<table border=\"1\" class=\"dataframe\">\n",
       "  <thead>\n",
       "    <tr style=\"text-align: right;\">\n",
       "      <th></th>\n",
       "      <th>ISIN</th>\n",
       "      <th>Name</th>\n",
       "    </tr>\n",
       "  </thead>\n",
       "  <tbody>\n",
       "    <tr>\n",
       "      <th>0</th>\n",
       "      <td>CA135087K528</td>\n",
       "      <td>CAN 1.25 Mar 25</td>\n",
       "    </tr>\n",
       "    <tr>\n",
       "      <th>1</th>\n",
       "      <td>CA135087K940</td>\n",
       "      <td>CAN 0.5 Sep 25</td>\n",
       "    </tr>\n",
       "    <tr>\n",
       "      <th>2</th>\n",
       "      <td>CA135087L518</td>\n",
       "      <td>CAN 0.25 Mar 26</td>\n",
       "    </tr>\n",
       "    <tr>\n",
       "      <th>3</th>\n",
       "      <td>CA135087L930</td>\n",
       "      <td>CAN 1.0 Sep 26</td>\n",
       "    </tr>\n",
       "    <tr>\n",
       "      <th>4</th>\n",
       "      <td>CA135087M847</td>\n",
       "      <td>CAN 1.25 Mar 27</td>\n",
       "    </tr>\n",
       "    <tr>\n",
       "      <th>5</th>\n",
       "      <td>CA135087N837</td>\n",
       "      <td>CAN 2.75 Sep 27</td>\n",
       "    </tr>\n",
       "    <tr>\n",
       "      <th>6</th>\n",
       "      <td>CA135087P576</td>\n",
       "      <td>CAN 3.5 Mar 28</td>\n",
       "    </tr>\n",
       "    <tr>\n",
       "      <th>7</th>\n",
       "      <td>CA135087Q491</td>\n",
       "      <td>CAN 3.25 Sep 28</td>\n",
       "    </tr>\n",
       "    <tr>\n",
       "      <th>8</th>\n",
       "      <td>CA135087Q988</td>\n",
       "      <td>CAN 4.0 Mar 29</td>\n",
       "    </tr>\n",
       "    <tr>\n",
       "      <th>9</th>\n",
       "      <td>CA135087R895</td>\n",
       "      <td>CAN 3.5 Sep 29</td>\n",
       "    </tr>\n",
       "    <tr>\n",
       "      <th>10</th>\n",
       "      <td>CA135087S471</td>\n",
       "      <td>CAN 2.75 Mar 30</td>\n",
       "    </tr>\n",
       "  </tbody>\n",
       "</table>\n",
       "</div>"
      ]
     },
     "execution_count": 222,
     "metadata": {},
     "output_type": "execute_result"
    }
   ],
   "execution_count": 222
  },
  {
   "metadata": {},
   "cell_type": "markdown",
   "source": "Covert Clean Price to Dirty Price"
  },
  {
   "cell_type": "code",
   "metadata": {
    "ExecuteTime": {
     "end_time": "2025-01-31T06:22:49.393829Z",
     "start_time": "2025-01-31T06:22:49.380979Z"
    }
   },
   "source": [
    "dirty = data[[\"ISIN\", \"Issue Date\", \"Maturity Date\", \"Last Coupon Date\", \"Coupon\", \"Bond URL\"]].copy()\n",
    "\n",
    "date_columns = [\"2025-01-06\", \"2025-01-07\", \"2025-01-08\", \"2025-01-09\", \"2025-01-10\",\n",
    "                \"2025-01-13\", \"2025-01-14\", \"2025-01-15\", \"2025-01-16\", \"2025-01-17\"]\n",
    "\n",
    "data[\"Last Coupon Date\"] = pd.to_datetime(data[\"Last Coupon Date\"])\n",
    "\n",
    "data[\"Coupon\"] = data[\"Coupon\"].str.rstrip('%').astype(float) / 100\n",
    "\n",
    "for date in date_columns:\n",
    "    clean_price = data[date]\n",
    "    days_difference = (pd.to_datetime(date) - data[\"Last Coupon Date\"]).dt.days / 365\n",
    "    dirty[date] = days_difference * data[\"Coupon\"] * 100 + clean_price\n",
    "\n",
    "dirty[\"Coupon\"] = dirty[\"Coupon\"].str.rstrip('%').astype(float) / 100\n",
    "\n",
    "dirty"
   ],
   "outputs": [
    {
     "data": {
      "text/plain": [
       "            ISIN  Issue Date Maturity Date Last Coupon Date  Coupon  \\\n",
       "0   CA135087K528  10/11/2019      3/1/2025         9/1/2024 0.01250   \n",
       "1   CA135087K940    4/3/2020      9/1/2025         9/1/2024 0.00500   \n",
       "2   CA135087L518   10/9/2020      3/1/2026         9/1/2024 0.00250   \n",
       "3   CA135087L930   4/16/2021      9/1/2026         9/1/2024 0.01000   \n",
       "4   CA135087M847  10/15/2021      3/1/2027         9/1/2024 0.01250   \n",
       "5   CA135087N837   5/13/2022      9/1/2027         9/1/2024 0.02750   \n",
       "6   CA135087P576  10/21/2022      3/1/2028         9/1/2024 0.03500   \n",
       "7   CA135087Q491   4/21/2023      9/1/2028         9/1/2024 0.03250   \n",
       "8   CA135087Q988  10/13/2023      3/1/2029         9/1/2024 0.04000   \n",
       "9   CA135087R895    4/8/2024      9/1/2029         9/1/2024 0.03500   \n",
       "10  CA135087S471   10/3/2024      3/1/2030         9/1/2024 0.02750   \n",
       "\n",
       "                                                                                  Bond URL  \\\n",
       "0   https://markets.businessinsider.com/bonds/canadacd-bonds_201925-Bond-2025-ca135087k528   \n",
       "1   https://markets.businessinsider.com/bonds/canadacd-bonds_202025-Bond-2025-ca135087k940   \n",
       "2   https://markets.businessinsider.com/bonds/canadacd-bonds_202026-Bond-2026-ca135087l518   \n",
       "3   https://markets.businessinsider.com/bonds/canadacd-bonds_202126-Bond-2026-ca135087l930   \n",
       "4   https://markets.businessinsider.com/bonds/canadacd-bonds_202127-Bond-2027-ca135087m847   \n",
       "5   https://markets.businessinsider.com/bonds/canadacd-bonds_202227-Bond-2027-ca135087n837   \n",
       "6   https://markets.businessinsider.com/bonds/canadacd-bonds_202228-Bond-2028-ca135087p576   \n",
       "7   https://markets.businessinsider.com/bonds/canadacd-bonds_202328-Bond-2028-ca135087q491   \n",
       "8   https://markets.businessinsider.com/bonds/canadacd-bonds_202329-Bond-2029-ca135087q988   \n",
       "9   https://markets.businessinsider.com/bonds/canadacd-bonds_202429-Bond-2029-ca135087r895   \n",
       "10  https://markets.businessinsider.com/bonds/canadacd-bonds_202430-Bond-2030-ca135087s471   \n",
       "\n",
       "    2025-01-06  2025-01-07  2025-01-08  2025-01-09  2025-01-10  2025-01-13  \\\n",
       "0    100.16493   100.16836   100.18178   100.17521   100.18863   100.18890   \n",
       "1     98.57397    98.58534    98.57671    98.59808    98.54945    98.54356   \n",
       "2     97.07699    97.06767    97.05836    97.08904    96.98973    97.00178   \n",
       "3     97.35795    97.34068    97.35342    97.38616    97.21890    97.13712   \n",
       "4     97.05493    97.02836    97.02178    97.07521    96.83863    96.73890   \n",
       "5    100.58685   100.52438   100.51192   100.55945   100.25699   100.13959   \n",
       "6    103.03781   103.04740   102.93699   102.96658   102.77616   102.54493   \n",
       "7    102.23082   102.27973   102.13863   102.09753   101.95644   101.68315   \n",
       "8    105.46178   105.41274   105.31370   105.29466   104.96562   104.75849   \n",
       "9    103.43781   103.36740   103.27699   103.22658   102.84616   102.56493   \n",
       "10    99.76685    99.56438    99.50192    99.51945    98.94699    98.61959   \n",
       "\n",
       "    2025-01-14  2025-01-15  2025-01-16  2025-01-17  \n",
       "0    100.19233   100.23575   100.24918   100.27260  \n",
       "1     98.54493    98.58630    98.65767    98.68904  \n",
       "2     96.89247    96.99315    97.10384    97.15452  \n",
       "3     97.07986    97.22260    97.40534    97.44808  \n",
       "4     96.65233    96.82575    97.06918    97.11260  \n",
       "5    100.03712   100.22466   100.53219   100.56973  \n",
       "6    102.31452   102.54411   102.89370   102.97329  \n",
       "7    101.39205   101.63096   102.13986   102.24877  \n",
       "8    104.46945   104.73041   105.30137   105.41233  \n",
       "9    102.29452   102.57411   103.16370   103.29329  \n",
       "10    98.39712    98.78466    99.43219    99.50973  "
      ],
      "text/html": [
       "<div>\n",
       "<style scoped>\n",
       "    .dataframe tbody tr th:only-of-type {\n",
       "        vertical-align: middle;\n",
       "    }\n",
       "\n",
       "    .dataframe tbody tr th {\n",
       "        vertical-align: top;\n",
       "    }\n",
       "\n",
       "    .dataframe thead th {\n",
       "        text-align: right;\n",
       "    }\n",
       "</style>\n",
       "<table border=\"1\" class=\"dataframe\">\n",
       "  <thead>\n",
       "    <tr style=\"text-align: right;\">\n",
       "      <th></th>\n",
       "      <th>ISIN</th>\n",
       "      <th>Issue Date</th>\n",
       "      <th>Maturity Date</th>\n",
       "      <th>Last Coupon Date</th>\n",
       "      <th>Coupon</th>\n",
       "      <th>Bond URL</th>\n",
       "      <th>2025-01-06</th>\n",
       "      <th>2025-01-07</th>\n",
       "      <th>2025-01-08</th>\n",
       "      <th>2025-01-09</th>\n",
       "      <th>2025-01-10</th>\n",
       "      <th>2025-01-13</th>\n",
       "      <th>2025-01-14</th>\n",
       "      <th>2025-01-15</th>\n",
       "      <th>2025-01-16</th>\n",
       "      <th>2025-01-17</th>\n",
       "    </tr>\n",
       "  </thead>\n",
       "  <tbody>\n",
       "    <tr>\n",
       "      <th>0</th>\n",
       "      <td>CA135087K528</td>\n",
       "      <td>10/11/2019</td>\n",
       "      <td>3/1/2025</td>\n",
       "      <td>9/1/2024</td>\n",
       "      <td>0.01250</td>\n",
       "      <td>https://markets.businessinsider.com/bonds/canadacd-bonds_201925-Bond-2025-ca135087k528</td>\n",
       "      <td>100.16493</td>\n",
       "      <td>100.16836</td>\n",
       "      <td>100.18178</td>\n",
       "      <td>100.17521</td>\n",
       "      <td>100.18863</td>\n",
       "      <td>100.18890</td>\n",
       "      <td>100.19233</td>\n",
       "      <td>100.23575</td>\n",
       "      <td>100.24918</td>\n",
       "      <td>100.27260</td>\n",
       "    </tr>\n",
       "    <tr>\n",
       "      <th>1</th>\n",
       "      <td>CA135087K940</td>\n",
       "      <td>4/3/2020</td>\n",
       "      <td>9/1/2025</td>\n",
       "      <td>9/1/2024</td>\n",
       "      <td>0.00500</td>\n",
       "      <td>https://markets.businessinsider.com/bonds/canadacd-bonds_202025-Bond-2025-ca135087k940</td>\n",
       "      <td>98.57397</td>\n",
       "      <td>98.58534</td>\n",
       "      <td>98.57671</td>\n",
       "      <td>98.59808</td>\n",
       "      <td>98.54945</td>\n",
       "      <td>98.54356</td>\n",
       "      <td>98.54493</td>\n",
       "      <td>98.58630</td>\n",
       "      <td>98.65767</td>\n",
       "      <td>98.68904</td>\n",
       "    </tr>\n",
       "    <tr>\n",
       "      <th>2</th>\n",
       "      <td>CA135087L518</td>\n",
       "      <td>10/9/2020</td>\n",
       "      <td>3/1/2026</td>\n",
       "      <td>9/1/2024</td>\n",
       "      <td>0.00250</td>\n",
       "      <td>https://markets.businessinsider.com/bonds/canadacd-bonds_202026-Bond-2026-ca135087l518</td>\n",
       "      <td>97.07699</td>\n",
       "      <td>97.06767</td>\n",
       "      <td>97.05836</td>\n",
       "      <td>97.08904</td>\n",
       "      <td>96.98973</td>\n",
       "      <td>97.00178</td>\n",
       "      <td>96.89247</td>\n",
       "      <td>96.99315</td>\n",
       "      <td>97.10384</td>\n",
       "      <td>97.15452</td>\n",
       "    </tr>\n",
       "    <tr>\n",
       "      <th>3</th>\n",
       "      <td>CA135087L930</td>\n",
       "      <td>4/16/2021</td>\n",
       "      <td>9/1/2026</td>\n",
       "      <td>9/1/2024</td>\n",
       "      <td>0.01000</td>\n",
       "      <td>https://markets.businessinsider.com/bonds/canadacd-bonds_202126-Bond-2026-ca135087l930</td>\n",
       "      <td>97.35795</td>\n",
       "      <td>97.34068</td>\n",
       "      <td>97.35342</td>\n",
       "      <td>97.38616</td>\n",
       "      <td>97.21890</td>\n",
       "      <td>97.13712</td>\n",
       "      <td>97.07986</td>\n",
       "      <td>97.22260</td>\n",
       "      <td>97.40534</td>\n",
       "      <td>97.44808</td>\n",
       "    </tr>\n",
       "    <tr>\n",
       "      <th>4</th>\n",
       "      <td>CA135087M847</td>\n",
       "      <td>10/15/2021</td>\n",
       "      <td>3/1/2027</td>\n",
       "      <td>9/1/2024</td>\n",
       "      <td>0.01250</td>\n",
       "      <td>https://markets.businessinsider.com/bonds/canadacd-bonds_202127-Bond-2027-ca135087m847</td>\n",
       "      <td>97.05493</td>\n",
       "      <td>97.02836</td>\n",
       "      <td>97.02178</td>\n",
       "      <td>97.07521</td>\n",
       "      <td>96.83863</td>\n",
       "      <td>96.73890</td>\n",
       "      <td>96.65233</td>\n",
       "      <td>96.82575</td>\n",
       "      <td>97.06918</td>\n",
       "      <td>97.11260</td>\n",
       "    </tr>\n",
       "    <tr>\n",
       "      <th>5</th>\n",
       "      <td>CA135087N837</td>\n",
       "      <td>5/13/2022</td>\n",
       "      <td>9/1/2027</td>\n",
       "      <td>9/1/2024</td>\n",
       "      <td>0.02750</td>\n",
       "      <td>https://markets.businessinsider.com/bonds/canadacd-bonds_202227-Bond-2027-ca135087n837</td>\n",
       "      <td>100.58685</td>\n",
       "      <td>100.52438</td>\n",
       "      <td>100.51192</td>\n",
       "      <td>100.55945</td>\n",
       "      <td>100.25699</td>\n",
       "      <td>100.13959</td>\n",
       "      <td>100.03712</td>\n",
       "      <td>100.22466</td>\n",
       "      <td>100.53219</td>\n",
       "      <td>100.56973</td>\n",
       "    </tr>\n",
       "    <tr>\n",
       "      <th>6</th>\n",
       "      <td>CA135087P576</td>\n",
       "      <td>10/21/2022</td>\n",
       "      <td>3/1/2028</td>\n",
       "      <td>9/1/2024</td>\n",
       "      <td>0.03500</td>\n",
       "      <td>https://markets.businessinsider.com/bonds/canadacd-bonds_202228-Bond-2028-ca135087p576</td>\n",
       "      <td>103.03781</td>\n",
       "      <td>103.04740</td>\n",
       "      <td>102.93699</td>\n",
       "      <td>102.96658</td>\n",
       "      <td>102.77616</td>\n",
       "      <td>102.54493</td>\n",
       "      <td>102.31452</td>\n",
       "      <td>102.54411</td>\n",
       "      <td>102.89370</td>\n",
       "      <td>102.97329</td>\n",
       "    </tr>\n",
       "    <tr>\n",
       "      <th>7</th>\n",
       "      <td>CA135087Q491</td>\n",
       "      <td>4/21/2023</td>\n",
       "      <td>9/1/2028</td>\n",
       "      <td>9/1/2024</td>\n",
       "      <td>0.03250</td>\n",
       "      <td>https://markets.businessinsider.com/bonds/canadacd-bonds_202328-Bond-2028-ca135087q491</td>\n",
       "      <td>102.23082</td>\n",
       "      <td>102.27973</td>\n",
       "      <td>102.13863</td>\n",
       "      <td>102.09753</td>\n",
       "      <td>101.95644</td>\n",
       "      <td>101.68315</td>\n",
       "      <td>101.39205</td>\n",
       "      <td>101.63096</td>\n",
       "      <td>102.13986</td>\n",
       "      <td>102.24877</td>\n",
       "    </tr>\n",
       "    <tr>\n",
       "      <th>8</th>\n",
       "      <td>CA135087Q988</td>\n",
       "      <td>10/13/2023</td>\n",
       "      <td>3/1/2029</td>\n",
       "      <td>9/1/2024</td>\n",
       "      <td>0.04000</td>\n",
       "      <td>https://markets.businessinsider.com/bonds/canadacd-bonds_202329-Bond-2029-ca135087q988</td>\n",
       "      <td>105.46178</td>\n",
       "      <td>105.41274</td>\n",
       "      <td>105.31370</td>\n",
       "      <td>105.29466</td>\n",
       "      <td>104.96562</td>\n",
       "      <td>104.75849</td>\n",
       "      <td>104.46945</td>\n",
       "      <td>104.73041</td>\n",
       "      <td>105.30137</td>\n",
       "      <td>105.41233</td>\n",
       "    </tr>\n",
       "    <tr>\n",
       "      <th>9</th>\n",
       "      <td>CA135087R895</td>\n",
       "      <td>4/8/2024</td>\n",
       "      <td>9/1/2029</td>\n",
       "      <td>9/1/2024</td>\n",
       "      <td>0.03500</td>\n",
       "      <td>https://markets.businessinsider.com/bonds/canadacd-bonds_202429-Bond-2029-ca135087r895</td>\n",
       "      <td>103.43781</td>\n",
       "      <td>103.36740</td>\n",
       "      <td>103.27699</td>\n",
       "      <td>103.22658</td>\n",
       "      <td>102.84616</td>\n",
       "      <td>102.56493</td>\n",
       "      <td>102.29452</td>\n",
       "      <td>102.57411</td>\n",
       "      <td>103.16370</td>\n",
       "      <td>103.29329</td>\n",
       "    </tr>\n",
       "    <tr>\n",
       "      <th>10</th>\n",
       "      <td>CA135087S471</td>\n",
       "      <td>10/3/2024</td>\n",
       "      <td>3/1/2030</td>\n",
       "      <td>9/1/2024</td>\n",
       "      <td>0.02750</td>\n",
       "      <td>https://markets.businessinsider.com/bonds/canadacd-bonds_202430-Bond-2030-ca135087s471</td>\n",
       "      <td>99.76685</td>\n",
       "      <td>99.56438</td>\n",
       "      <td>99.50192</td>\n",
       "      <td>99.51945</td>\n",
       "      <td>98.94699</td>\n",
       "      <td>98.61959</td>\n",
       "      <td>98.39712</td>\n",
       "      <td>98.78466</td>\n",
       "      <td>99.43219</td>\n",
       "      <td>99.50973</td>\n",
       "    </tr>\n",
       "  </tbody>\n",
       "</table>\n",
       "</div>"
      ]
     },
     "execution_count": 223,
     "metadata": {},
     "output_type": "execute_result"
    }
   ],
   "execution_count": 223
  },
  {
   "cell_type": "markdown",
   "metadata": {},
   "source": [
    "4a - Yield"
   ]
  },
  {
   "metadata": {
    "ExecuteTime": {
     "end_time": "2025-01-31T06:22:49.482009Z",
     "start_time": "2025-01-31T06:22:49.479627Z"
    }
   },
   "cell_type": "code",
   "source": [
    "def calculate_ytm(bonds):\n",
    "    ytms = []\n",
    "    for i, (price, coupon_rate, maturity) in enumerate(sorted(bonds, key=lambda x: x[2])):\n",
    "            time_periods = []\n",
    "            current_time = maturity\n",
    "            while current_time > 0:\n",
    "                time_periods.append(current_time)\n",
    "                current_time -= 0.5\n",
    "            time_periods = time_periods[::-1]\n",
    "\n",
    "            nper = len(time_periods)\n",
    "            pmt = coupon_rate / 2\n",
    "            fv = 100\n",
    "            pv = -price\n",
    "\n",
    "            ytm = npf.rate(nper=nper, pmt=pmt, pv=pv, fv=fv) * 2\n",
    "\n",
    "            ytms.append(ytm)\n",
    "    return ytms"
   ],
   "outputs": [],
   "execution_count": 224
  },
  {
   "metadata": {
    "ExecuteTime": {
     "end_time": "2025-01-31T06:22:49.829310Z",
     "start_time": "2025-01-31T06:22:49.525857Z"
    }
   },
   "cell_type": "code",
   "source": [
    "fig = go.Figure()\n",
    "\n",
    "for date in date_columns:\n",
    "    bonds = []\n",
    "    d = pd.to_datetime(date)\n",
    "\n",
    "    Remaining_Maturity = (pd.to_datetime(dirty[\"Maturity Date\"]) - d).dt.days / 365\n",
    "\n",
    "    for i in range(len(data)):\n",
    "        row = dirty.iloc[i]\n",
    "        maturity = Remaining_Maturity.iloc[i]  # Get the maturity for this bond\n",
    "        bond = (row[date], row[\"Coupon\"] * 100, maturity)  # Price, Coupon, Maturity\n",
    "        bonds.append(bond)\n",
    "\n",
    "    bonds = [(float(price), float(coupon), float(maturity)) for price, coupon, maturity in bonds]\n",
    "\n",
    "    yield_rates = calculate_ytm(bonds)\n",
    "    maturities = [bond[2] for bond in bonds]\n",
    "\n",
    "    # Add spot rates to figure\n",
    "    fig.add_trace(\n",
    "        go.Scatter(\n",
    "            x=maturities,\n",
    "            y=[rate * 100 for rate in yield_rates],  # Convert spot rates to percentages\n",
    "            mode='lines+markers',\n",
    "            name=str(date)\n",
    "        )\n",
    "    )\n",
    "\n",
    "fig.update_layout(\n",
    "    title='5-Year Yield Curve',\n",
    "    xaxis_title='Maturity (Years)',\n",
    "    yaxis_title='YTM (%)',\n",
    "    legend_title=\"Dates\"\n",
    ")\n",
    "fig.write_image(\"yield_curve.jpg\")\n",
    "\n",
    "fig.show()\n"
   ],
   "outputs": [
    {
     "data": {
      "application/vnd.plotly.v1+json": {
       "data": [
        {
         "mode": "lines+markers",
         "name": "2025-01-06",
         "x": [
          0.14794520547945206,
          0.6520547945205479,
          1.1479452054794521,
          1.652054794520548,
          2.147945205479452,
          2.652054794520548,
          3.1506849315068495,
          3.654794520547945,
          4.1506849315068495,
          4.654794520547945,
          5.1506849315068495
         ],
         "y": [
          0.9186218893769695,
          1.9468833331092992,
          2.242538013121989,
          2.3602301197847826,
          2.4720675705923787,
          2.5455774821038415,
          2.5865777529258756,
          2.6584218444843133,
          2.702792022183627,
          2.759195733291086,
          2.7960290754090136
         ],
         "type": "scatter"
        },
        {
         "mode": "lines+markers",
         "name": "2025-01-07",
         "x": [
          0.14520547945205478,
          0.6493150684931507,
          1.1452054794520548,
          1.6493150684931508,
          2.1452054794520548,
          2.649315068493151,
          3.147945205479452,
          3.652054794520548,
          4.147945205479452,
          4.652054794520548,
          5.147945205479452
         ],
         "y": [
          0.9117526793931672,
          1.9352230716670118,
          2.2490154045896626,
          2.369268346438102,
          2.4832986370406758,
          2.5672689896463674,
          2.583745065819034,
          2.645622419219211,
          2.714087787256039,
          2.7740813965802,
          2.836099900624141
         ],
         "type": "scatter"
        },
        {
         "mode": "lines+markers",
         "name": "2025-01-08",
         "x": [
          0.14246575342465753,
          0.6465753424657534,
          1.1424657534246576,
          1.6465753424657534,
          2.1424657534246574,
          2.6465753424657534,
          3.1452054794520548,
          3.649315068493151,
          4.145205479452055,
          4.64931506849315,
          5.145205479452055
         ],
         "y": [
          0.8848299050903631,
          1.9440734469166978,
          2.255493625613634,
          2.3625970797971743,
          2.486078032078236,
          2.5715997021256403,
          2.616380301873068,
          2.682570167452881,
          2.736918899910531,
          2.7932124753215666,
          2.8484815154486647
         ],
         "type": "scatter"
        },
        {
         "mode": "lines+markers",
         "name": "2025-01-09",
         "x": [
          0.13972602739726028,
          0.6438356164383562,
          1.1397260273972603,
          1.643835616438356,
          2.1397260273972605,
          2.643835616438356,
          3.1424657534246574,
          3.6465753424657534,
          4.142465753424657,
          4.646575342465753,
          5.142465753424657
         ],
         "y": [
          0.8980156684384366,
          1.9221603575795505,
          2.234156737631412,
          2.3454576717637683,
          2.463502042731558,
          2.5550893220754145,
          2.6076303272161856,
          2.693342844646346,
          2.7413111564945534,
          2.8038879073282987,
          2.8450050796471174
         ],
         "type": "scatter"
        },
        {
         "mode": "lines+markers",
         "name": "2025-01-10",
         "x": [
          0.136986301369863,
          0.6410958904109589,
          1.1369863013698631,
          1.641095890410959,
          2.136986301369863,
          2.6410958904109587,
          3.1397260273972605,
          3.643835616438356,
          4.13972602739726,
          4.6438356164383565,
          5.13972602739726
         ],
         "y": [
          0.8710965753640483,
          1.9720370360146688,
          2.3032484606112997,
          2.433095328093313,
          2.563587494345358,
          2.660305960880989,
          2.663990063182588,
          2.7303675688065887,
          2.8173586616350788,
          2.8846415938645187,
          2.9588677122670033
         ],
         "type": "scatter"
        },
        {
         "mode": "lines+markers",
         "name": "2025-01-13",
         "x": [
          0.12876712328767123,
          0.6328767123287671,
          1.1287671232876713,
          1.632876712328767,
          2.128767123287671,
          2.632876712328767,
          3.1315068493150684,
          3.6356164383561644,
          4.131506849315069,
          4.635616438356164,
          5.131506849315069
         ],
         "y": [
          0.870547281231757,
          1.978080945338053,
          2.2948571216950886,
          2.476014170295152,
          2.605866233715683,
          2.7012461900112577,
          2.7325987964214673,
          2.8022508089873726,
          2.86537157322644,
          2.944564021703331,
          3.0243248597923573
         ],
         "type": "scatter"
        },
        {
         "mode": "lines+markers",
         "name": "2025-01-14",
         "x": [
          0.12602739726027398,
          0.6301369863013698,
          1.126027397260274,
          1.63013698630137,
          2.126027397260274,
          2.6301369863013697,
          3.128767123287671,
          3.632876712328767,
          4.1287671232876715,
          4.632876712328767,
          5.1287671232876715
         ],
         "y": [
          0.8636813580456217,
          1.9766753366320013,
          2.371002261832865,
          2.5060915780809956,
          2.6426125471016815,
          2.7370261484081784,
          2.8011457388700083,
          2.8790664897485065,
          2.932559294600716,
          3.0023599939038887,
          3.068944475313309
         ],
         "type": "scatter"
        },
        {
         "mode": "lines+markers",
         "name": "2025-01-15",
         "x": [
          0.1232876712328767,
          0.6273972602739726,
          1.1232876712328768,
          1.6273972602739726,
          2.1232876712328768,
          2.627397260273973,
          3.126027397260274,
          3.6301369863013697,
          4.126027397260274,
          4.63013698630137,
          5.126027397260274
         ],
         "y": [
          0.7766621430845776,
          1.9342397684362873,
          2.300864415983104,
          2.4311553470844216,
          2.569043599197086,
          2.6715743407985437,
          2.7328429922785427,
          2.8160045182911912,
          2.871889791721857,
          2.9426054466355516,
          2.9912914729675673
         ],
         "type": "scatter"
        },
        {
         "mode": "lines+markers",
         "name": "2025-01-16",
         "x": [
          0.12054794520547946,
          0.6246575342465753,
          1.1205479452054794,
          1.6246575342465754,
          2.1205479452054794,
          2.6246575342465754,
          3.1232876712328768,
          3.627397260273973,
          4.123287671232877,
          4.627397260273972,
          5.123287671232877
         ],
         "y": [
          0.7497755592571597,
          1.8610941932644003,
          2.2238725245788125,
          2.335421212965928,
          2.4660483248691967,
          2.5645566719018857,
          2.6291865461492288,
          2.682247065258248,
          2.73976270124278,
          2.8172116350925416,
          2.8623126966653603
         ],
         "type": "scatter"
        },
        {
         "mode": "lines+markers",
         "name": "2025-01-17",
         "x": [
          0.1178082191780822,
          0.6219178082191781,
          1.1178082191780823,
          1.621917808219178,
          2.117808219178082,
          2.621917808219178,
          3.1205479452054794,
          3.6246575342465754,
          4.120547945205479,
          4.624657534246575,
          5.120547945205479
         ],
         "y": [
          0.7028784546237006,
          1.828968961224627,
          2.188655418651374,
          2.313063176190985,
          2.4477077944371284,
          2.5515220198175164,
          2.6056457926807632,
          2.6537243072259793,
          2.7141824704213704,
          2.789761653961744,
          2.8469333288434395
         ],
         "type": "scatter"
        }
       ],
       "layout": {
        "template": {
         "data": {
          "histogram2dcontour": [
           {
            "type": "histogram2dcontour",
            "colorbar": {
             "outlinewidth": 0,
             "ticks": ""
            },
            "colorscale": [
             [
              0.0,
              "#0d0887"
             ],
             [
              0.1111111111111111,
              "#46039f"
             ],
             [
              0.2222222222222222,
              "#7201a8"
             ],
             [
              0.3333333333333333,
              "#9c179e"
             ],
             [
              0.4444444444444444,
              "#bd3786"
             ],
             [
              0.5555555555555556,
              "#d8576b"
             ],
             [
              0.6666666666666666,
              "#ed7953"
             ],
             [
              0.7777777777777778,
              "#fb9f3a"
             ],
             [
              0.8888888888888888,
              "#fdca26"
             ],
             [
              1.0,
              "#f0f921"
             ]
            ]
           }
          ],
          "choropleth": [
           {
            "type": "choropleth",
            "colorbar": {
             "outlinewidth": 0,
             "ticks": ""
            }
           }
          ],
          "histogram2d": [
           {
            "type": "histogram2d",
            "colorbar": {
             "outlinewidth": 0,
             "ticks": ""
            },
            "colorscale": [
             [
              0.0,
              "#0d0887"
             ],
             [
              0.1111111111111111,
              "#46039f"
             ],
             [
              0.2222222222222222,
              "#7201a8"
             ],
             [
              0.3333333333333333,
              "#9c179e"
             ],
             [
              0.4444444444444444,
              "#bd3786"
             ],
             [
              0.5555555555555556,
              "#d8576b"
             ],
             [
              0.6666666666666666,
              "#ed7953"
             ],
             [
              0.7777777777777778,
              "#fb9f3a"
             ],
             [
              0.8888888888888888,
              "#fdca26"
             ],
             [
              1.0,
              "#f0f921"
             ]
            ]
           }
          ],
          "heatmap": [
           {
            "type": "heatmap",
            "colorbar": {
             "outlinewidth": 0,
             "ticks": ""
            },
            "colorscale": [
             [
              0.0,
              "#0d0887"
             ],
             [
              0.1111111111111111,
              "#46039f"
             ],
             [
              0.2222222222222222,
              "#7201a8"
             ],
             [
              0.3333333333333333,
              "#9c179e"
             ],
             [
              0.4444444444444444,
              "#bd3786"
             ],
             [
              0.5555555555555556,
              "#d8576b"
             ],
             [
              0.6666666666666666,
              "#ed7953"
             ],
             [
              0.7777777777777778,
              "#fb9f3a"
             ],
             [
              0.8888888888888888,
              "#fdca26"
             ],
             [
              1.0,
              "#f0f921"
             ]
            ]
           }
          ],
          "heatmapgl": [
           {
            "type": "heatmapgl",
            "colorbar": {
             "outlinewidth": 0,
             "ticks": ""
            },
            "colorscale": [
             [
              0.0,
              "#0d0887"
             ],
             [
              0.1111111111111111,
              "#46039f"
             ],
             [
              0.2222222222222222,
              "#7201a8"
             ],
             [
              0.3333333333333333,
              "#9c179e"
             ],
             [
              0.4444444444444444,
              "#bd3786"
             ],
             [
              0.5555555555555556,
              "#d8576b"
             ],
             [
              0.6666666666666666,
              "#ed7953"
             ],
             [
              0.7777777777777778,
              "#fb9f3a"
             ],
             [
              0.8888888888888888,
              "#fdca26"
             ],
             [
              1.0,
              "#f0f921"
             ]
            ]
           }
          ],
          "contourcarpet": [
           {
            "type": "contourcarpet",
            "colorbar": {
             "outlinewidth": 0,
             "ticks": ""
            }
           }
          ],
          "contour": [
           {
            "type": "contour",
            "colorbar": {
             "outlinewidth": 0,
             "ticks": ""
            },
            "colorscale": [
             [
              0.0,
              "#0d0887"
             ],
             [
              0.1111111111111111,
              "#46039f"
             ],
             [
              0.2222222222222222,
              "#7201a8"
             ],
             [
              0.3333333333333333,
              "#9c179e"
             ],
             [
              0.4444444444444444,
              "#bd3786"
             ],
             [
              0.5555555555555556,
              "#d8576b"
             ],
             [
              0.6666666666666666,
              "#ed7953"
             ],
             [
              0.7777777777777778,
              "#fb9f3a"
             ],
             [
              0.8888888888888888,
              "#fdca26"
             ],
             [
              1.0,
              "#f0f921"
             ]
            ]
           }
          ],
          "surface": [
           {
            "type": "surface",
            "colorbar": {
             "outlinewidth": 0,
             "ticks": ""
            },
            "colorscale": [
             [
              0.0,
              "#0d0887"
             ],
             [
              0.1111111111111111,
              "#46039f"
             ],
             [
              0.2222222222222222,
              "#7201a8"
             ],
             [
              0.3333333333333333,
              "#9c179e"
             ],
             [
              0.4444444444444444,
              "#bd3786"
             ],
             [
              0.5555555555555556,
              "#d8576b"
             ],
             [
              0.6666666666666666,
              "#ed7953"
             ],
             [
              0.7777777777777778,
              "#fb9f3a"
             ],
             [
              0.8888888888888888,
              "#fdca26"
             ],
             [
              1.0,
              "#f0f921"
             ]
            ]
           }
          ],
          "mesh3d": [
           {
            "type": "mesh3d",
            "colorbar": {
             "outlinewidth": 0,
             "ticks": ""
            }
           }
          ],
          "scatter": [
           {
            "fillpattern": {
             "fillmode": "overlay",
             "size": 10,
             "solidity": 0.2
            },
            "type": "scatter"
           }
          ],
          "parcoords": [
           {
            "type": "parcoords",
            "line": {
             "colorbar": {
              "outlinewidth": 0,
              "ticks": ""
             }
            }
           }
          ],
          "scatterpolargl": [
           {
            "type": "scatterpolargl",
            "marker": {
             "colorbar": {
              "outlinewidth": 0,
              "ticks": ""
             }
            }
           }
          ],
          "bar": [
           {
            "error_x": {
             "color": "#2a3f5f"
            },
            "error_y": {
             "color": "#2a3f5f"
            },
            "marker": {
             "line": {
              "color": "#E5ECF6",
              "width": 0.5
             },
             "pattern": {
              "fillmode": "overlay",
              "size": 10,
              "solidity": 0.2
             }
            },
            "type": "bar"
           }
          ],
          "scattergeo": [
           {
            "type": "scattergeo",
            "marker": {
             "colorbar": {
              "outlinewidth": 0,
              "ticks": ""
             }
            }
           }
          ],
          "scatterpolar": [
           {
            "type": "scatterpolar",
            "marker": {
             "colorbar": {
              "outlinewidth": 0,
              "ticks": ""
             }
            }
           }
          ],
          "histogram": [
           {
            "marker": {
             "pattern": {
              "fillmode": "overlay",
              "size": 10,
              "solidity": 0.2
             }
            },
            "type": "histogram"
           }
          ],
          "scattergl": [
           {
            "type": "scattergl",
            "marker": {
             "colorbar": {
              "outlinewidth": 0,
              "ticks": ""
             }
            }
           }
          ],
          "scatter3d": [
           {
            "type": "scatter3d",
            "line": {
             "colorbar": {
              "outlinewidth": 0,
              "ticks": ""
             }
            },
            "marker": {
             "colorbar": {
              "outlinewidth": 0,
              "ticks": ""
             }
            }
           }
          ],
          "scattermapbox": [
           {
            "type": "scattermapbox",
            "marker": {
             "colorbar": {
              "outlinewidth": 0,
              "ticks": ""
             }
            }
           }
          ],
          "scatterternary": [
           {
            "type": "scatterternary",
            "marker": {
             "colorbar": {
              "outlinewidth": 0,
              "ticks": ""
             }
            }
           }
          ],
          "scattercarpet": [
           {
            "type": "scattercarpet",
            "marker": {
             "colorbar": {
              "outlinewidth": 0,
              "ticks": ""
             }
            }
           }
          ],
          "carpet": [
           {
            "aaxis": {
             "endlinecolor": "#2a3f5f",
             "gridcolor": "white",
             "linecolor": "white",
             "minorgridcolor": "white",
             "startlinecolor": "#2a3f5f"
            },
            "baxis": {
             "endlinecolor": "#2a3f5f",
             "gridcolor": "white",
             "linecolor": "white",
             "minorgridcolor": "white",
             "startlinecolor": "#2a3f5f"
            },
            "type": "carpet"
           }
          ],
          "table": [
           {
            "cells": {
             "fill": {
              "color": "#EBF0F8"
             },
             "line": {
              "color": "white"
             }
            },
            "header": {
             "fill": {
              "color": "#C8D4E3"
             },
             "line": {
              "color": "white"
             }
            },
            "type": "table"
           }
          ],
          "barpolar": [
           {
            "marker": {
             "line": {
              "color": "#E5ECF6",
              "width": 0.5
             },
             "pattern": {
              "fillmode": "overlay",
              "size": 10,
              "solidity": 0.2
             }
            },
            "type": "barpolar"
           }
          ],
          "pie": [
           {
            "automargin": true,
            "type": "pie"
           }
          ]
         },
         "layout": {
          "autotypenumbers": "strict",
          "colorway": [
           "#636efa",
           "#EF553B",
           "#00cc96",
           "#ab63fa",
           "#FFA15A",
           "#19d3f3",
           "#FF6692",
           "#B6E880",
           "#FF97FF",
           "#FECB52"
          ],
          "font": {
           "color": "#2a3f5f"
          },
          "hovermode": "closest",
          "hoverlabel": {
           "align": "left"
          },
          "paper_bgcolor": "white",
          "plot_bgcolor": "#E5ECF6",
          "polar": {
           "bgcolor": "#E5ECF6",
           "angularaxis": {
            "gridcolor": "white",
            "linecolor": "white",
            "ticks": ""
           },
           "radialaxis": {
            "gridcolor": "white",
            "linecolor": "white",
            "ticks": ""
           }
          },
          "ternary": {
           "bgcolor": "#E5ECF6",
           "aaxis": {
            "gridcolor": "white",
            "linecolor": "white",
            "ticks": ""
           },
           "baxis": {
            "gridcolor": "white",
            "linecolor": "white",
            "ticks": ""
           },
           "caxis": {
            "gridcolor": "white",
            "linecolor": "white",
            "ticks": ""
           }
          },
          "coloraxis": {
           "colorbar": {
            "outlinewidth": 0,
            "ticks": ""
           }
          },
          "colorscale": {
           "sequential": [
            [
             0.0,
             "#0d0887"
            ],
            [
             0.1111111111111111,
             "#46039f"
            ],
            [
             0.2222222222222222,
             "#7201a8"
            ],
            [
             0.3333333333333333,
             "#9c179e"
            ],
            [
             0.4444444444444444,
             "#bd3786"
            ],
            [
             0.5555555555555556,
             "#d8576b"
            ],
            [
             0.6666666666666666,
             "#ed7953"
            ],
            [
             0.7777777777777778,
             "#fb9f3a"
            ],
            [
             0.8888888888888888,
             "#fdca26"
            ],
            [
             1.0,
             "#f0f921"
            ]
           ],
           "sequentialminus": [
            [
             0.0,
             "#0d0887"
            ],
            [
             0.1111111111111111,
             "#46039f"
            ],
            [
             0.2222222222222222,
             "#7201a8"
            ],
            [
             0.3333333333333333,
             "#9c179e"
            ],
            [
             0.4444444444444444,
             "#bd3786"
            ],
            [
             0.5555555555555556,
             "#d8576b"
            ],
            [
             0.6666666666666666,
             "#ed7953"
            ],
            [
             0.7777777777777778,
             "#fb9f3a"
            ],
            [
             0.8888888888888888,
             "#fdca26"
            ],
            [
             1.0,
             "#f0f921"
            ]
           ],
           "diverging": [
            [
             0,
             "#8e0152"
            ],
            [
             0.1,
             "#c51b7d"
            ],
            [
             0.2,
             "#de77ae"
            ],
            [
             0.3,
             "#f1b6da"
            ],
            [
             0.4,
             "#fde0ef"
            ],
            [
             0.5,
             "#f7f7f7"
            ],
            [
             0.6,
             "#e6f5d0"
            ],
            [
             0.7,
             "#b8e186"
            ],
            [
             0.8,
             "#7fbc41"
            ],
            [
             0.9,
             "#4d9221"
            ],
            [
             1,
             "#276419"
            ]
           ]
          },
          "xaxis": {
           "gridcolor": "white",
           "linecolor": "white",
           "ticks": "",
           "title": {
            "standoff": 15
           },
           "zerolinecolor": "white",
           "automargin": true,
           "zerolinewidth": 2
          },
          "yaxis": {
           "gridcolor": "white",
           "linecolor": "white",
           "ticks": "",
           "title": {
            "standoff": 15
           },
           "zerolinecolor": "white",
           "automargin": true,
           "zerolinewidth": 2
          },
          "scene": {
           "xaxis": {
            "backgroundcolor": "#E5ECF6",
            "gridcolor": "white",
            "linecolor": "white",
            "showbackground": true,
            "ticks": "",
            "zerolinecolor": "white",
            "gridwidth": 2
           },
           "yaxis": {
            "backgroundcolor": "#E5ECF6",
            "gridcolor": "white",
            "linecolor": "white",
            "showbackground": true,
            "ticks": "",
            "zerolinecolor": "white",
            "gridwidth": 2
           },
           "zaxis": {
            "backgroundcolor": "#E5ECF6",
            "gridcolor": "white",
            "linecolor": "white",
            "showbackground": true,
            "ticks": "",
            "zerolinecolor": "white",
            "gridwidth": 2
           }
          },
          "shapedefaults": {
           "line": {
            "color": "#2a3f5f"
           }
          },
          "annotationdefaults": {
           "arrowcolor": "#2a3f5f",
           "arrowhead": 0,
           "arrowwidth": 1
          },
          "geo": {
           "bgcolor": "white",
           "landcolor": "#E5ECF6",
           "subunitcolor": "white",
           "showland": true,
           "showlakes": true,
           "lakecolor": "white"
          },
          "title": {
           "x": 0.05
          },
          "mapbox": {
           "style": "light"
          }
         }
        },
        "title": {
         "text": "5-Year Yield Curve"
        },
        "xaxis": {
         "title": {
          "text": "Maturity (Years)"
         }
        },
        "yaxis": {
         "title": {
          "text": "YTM (%)"
         }
        },
        "legend": {
         "title": {
          "text": "Dates"
         }
        }
       },
       "config": {
        "plotlyServerURL": "https://plot.ly"
       }
      },
      "text/html": [
       "<div>                            <div id=\"38bfea47-c248-4bfb-ad14-bd675e2878eb\" class=\"plotly-graph-div\" style=\"height:525px; width:100%;\"></div>            <script type=\"text/javascript\">                require([\"plotly\"], function(Plotly) {                    window.PLOTLYENV=window.PLOTLYENV || {};                                    if (document.getElementById(\"38bfea47-c248-4bfb-ad14-bd675e2878eb\")) {                    Plotly.newPlot(                        \"38bfea47-c248-4bfb-ad14-bd675e2878eb\",                        [{\"mode\":\"lines+markers\",\"name\":\"2025-01-06\",\"x\":[0.14794520547945206,0.6520547945205479,1.1479452054794521,1.652054794520548,2.147945205479452,2.652054794520548,3.1506849315068495,3.654794520547945,4.1506849315068495,4.654794520547945,5.1506849315068495],\"y\":[0.9186218893769695,1.9468833331092992,2.242538013121989,2.3602301197847826,2.4720675705923787,2.5455774821038415,2.5865777529258756,2.6584218444843133,2.702792022183627,2.759195733291086,2.7960290754090136],\"type\":\"scatter\"},{\"mode\":\"lines+markers\",\"name\":\"2025-01-07\",\"x\":[0.14520547945205478,0.6493150684931507,1.1452054794520548,1.6493150684931508,2.1452054794520548,2.649315068493151,3.147945205479452,3.652054794520548,4.147945205479452,4.652054794520548,5.147945205479452],\"y\":[0.9117526793931672,1.9352230716670118,2.2490154045896626,2.369268346438102,2.4832986370406758,2.5672689896463674,2.583745065819034,2.645622419219211,2.714087787256039,2.7740813965802,2.836099900624141],\"type\":\"scatter\"},{\"mode\":\"lines+markers\",\"name\":\"2025-01-08\",\"x\":[0.14246575342465753,0.6465753424657534,1.1424657534246576,1.6465753424657534,2.1424657534246574,2.6465753424657534,3.1452054794520548,3.649315068493151,4.145205479452055,4.64931506849315,5.145205479452055],\"y\":[0.8848299050903631,1.9440734469166978,2.255493625613634,2.3625970797971743,2.486078032078236,2.5715997021256403,2.616380301873068,2.682570167452881,2.736918899910531,2.7932124753215666,2.8484815154486647],\"type\":\"scatter\"},{\"mode\":\"lines+markers\",\"name\":\"2025-01-09\",\"x\":[0.13972602739726028,0.6438356164383562,1.1397260273972603,1.643835616438356,2.1397260273972605,2.643835616438356,3.1424657534246574,3.6465753424657534,4.142465753424657,4.646575342465753,5.142465753424657],\"y\":[0.8980156684384366,1.9221603575795505,2.234156737631412,2.3454576717637683,2.463502042731558,2.5550893220754145,2.6076303272161856,2.693342844646346,2.7413111564945534,2.8038879073282987,2.8450050796471174],\"type\":\"scatter\"},{\"mode\":\"lines+markers\",\"name\":\"2025-01-10\",\"x\":[0.136986301369863,0.6410958904109589,1.1369863013698631,1.641095890410959,2.136986301369863,2.6410958904109587,3.1397260273972605,3.643835616438356,4.13972602739726,4.6438356164383565,5.13972602739726],\"y\":[0.8710965753640483,1.9720370360146688,2.3032484606112997,2.433095328093313,2.563587494345358,2.660305960880989,2.663990063182588,2.7303675688065887,2.8173586616350788,2.8846415938645187,2.9588677122670033],\"type\":\"scatter\"},{\"mode\":\"lines+markers\",\"name\":\"2025-01-13\",\"x\":[0.12876712328767123,0.6328767123287671,1.1287671232876713,1.632876712328767,2.128767123287671,2.632876712328767,3.1315068493150684,3.6356164383561644,4.131506849315069,4.635616438356164,5.131506849315069],\"y\":[0.870547281231757,1.978080945338053,2.2948571216950886,2.476014170295152,2.605866233715683,2.7012461900112577,2.7325987964214673,2.8022508089873726,2.86537157322644,2.944564021703331,3.0243248597923573],\"type\":\"scatter\"},{\"mode\":\"lines+markers\",\"name\":\"2025-01-14\",\"x\":[0.12602739726027398,0.6301369863013698,1.126027397260274,1.63013698630137,2.126027397260274,2.6301369863013697,3.128767123287671,3.632876712328767,4.1287671232876715,4.632876712328767,5.1287671232876715],\"y\":[0.8636813580456217,1.9766753366320013,2.371002261832865,2.5060915780809956,2.6426125471016815,2.7370261484081784,2.8011457388700083,2.8790664897485065,2.932559294600716,3.0023599939038887,3.068944475313309],\"type\":\"scatter\"},{\"mode\":\"lines+markers\",\"name\":\"2025-01-15\",\"x\":[0.1232876712328767,0.6273972602739726,1.1232876712328768,1.6273972602739726,2.1232876712328768,2.627397260273973,3.126027397260274,3.6301369863013697,4.126027397260274,4.63013698630137,5.126027397260274],\"y\":[0.7766621430845776,1.9342397684362873,2.300864415983104,2.4311553470844216,2.569043599197086,2.6715743407985437,2.7328429922785427,2.8160045182911912,2.871889791721857,2.9426054466355516,2.9912914729675673],\"type\":\"scatter\"},{\"mode\":\"lines+markers\",\"name\":\"2025-01-16\",\"x\":[0.12054794520547946,0.6246575342465753,1.1205479452054794,1.6246575342465754,2.1205479452054794,2.6246575342465754,3.1232876712328768,3.627397260273973,4.123287671232877,4.627397260273972,5.123287671232877],\"y\":[0.7497755592571597,1.8610941932644003,2.2238725245788125,2.335421212965928,2.4660483248691967,2.5645566719018857,2.6291865461492288,2.682247065258248,2.73976270124278,2.8172116350925416,2.8623126966653603],\"type\":\"scatter\"},{\"mode\":\"lines+markers\",\"name\":\"2025-01-17\",\"x\":[0.1178082191780822,0.6219178082191781,1.1178082191780823,1.621917808219178,2.117808219178082,2.621917808219178,3.1205479452054794,3.6246575342465754,4.120547945205479,4.624657534246575,5.120547945205479],\"y\":[0.7028784546237006,1.828968961224627,2.188655418651374,2.313063176190985,2.4477077944371284,2.5515220198175164,2.6056457926807632,2.6537243072259793,2.7141824704213704,2.789761653961744,2.8469333288434395],\"type\":\"scatter\"}],                        {\"template\":{\"data\":{\"histogram2dcontour\":[{\"type\":\"histogram2dcontour\",\"colorbar\":{\"outlinewidth\":0,\"ticks\":\"\"},\"colorscale\":[[0.0,\"#0d0887\"],[0.1111111111111111,\"#46039f\"],[0.2222222222222222,\"#7201a8\"],[0.3333333333333333,\"#9c179e\"],[0.4444444444444444,\"#bd3786\"],[0.5555555555555556,\"#d8576b\"],[0.6666666666666666,\"#ed7953\"],[0.7777777777777778,\"#fb9f3a\"],[0.8888888888888888,\"#fdca26\"],[1.0,\"#f0f921\"]]}],\"choropleth\":[{\"type\":\"choropleth\",\"colorbar\":{\"outlinewidth\":0,\"ticks\":\"\"}}],\"histogram2d\":[{\"type\":\"histogram2d\",\"colorbar\":{\"outlinewidth\":0,\"ticks\":\"\"},\"colorscale\":[[0.0,\"#0d0887\"],[0.1111111111111111,\"#46039f\"],[0.2222222222222222,\"#7201a8\"],[0.3333333333333333,\"#9c179e\"],[0.4444444444444444,\"#bd3786\"],[0.5555555555555556,\"#d8576b\"],[0.6666666666666666,\"#ed7953\"],[0.7777777777777778,\"#fb9f3a\"],[0.8888888888888888,\"#fdca26\"],[1.0,\"#f0f921\"]]}],\"heatmap\":[{\"type\":\"heatmap\",\"colorbar\":{\"outlinewidth\":0,\"ticks\":\"\"},\"colorscale\":[[0.0,\"#0d0887\"],[0.1111111111111111,\"#46039f\"],[0.2222222222222222,\"#7201a8\"],[0.3333333333333333,\"#9c179e\"],[0.4444444444444444,\"#bd3786\"],[0.5555555555555556,\"#d8576b\"],[0.6666666666666666,\"#ed7953\"],[0.7777777777777778,\"#fb9f3a\"],[0.8888888888888888,\"#fdca26\"],[1.0,\"#f0f921\"]]}],\"heatmapgl\":[{\"type\":\"heatmapgl\",\"colorbar\":{\"outlinewidth\":0,\"ticks\":\"\"},\"colorscale\":[[0.0,\"#0d0887\"],[0.1111111111111111,\"#46039f\"],[0.2222222222222222,\"#7201a8\"],[0.3333333333333333,\"#9c179e\"],[0.4444444444444444,\"#bd3786\"],[0.5555555555555556,\"#d8576b\"],[0.6666666666666666,\"#ed7953\"],[0.7777777777777778,\"#fb9f3a\"],[0.8888888888888888,\"#fdca26\"],[1.0,\"#f0f921\"]]}],\"contourcarpet\":[{\"type\":\"contourcarpet\",\"colorbar\":{\"outlinewidth\":0,\"ticks\":\"\"}}],\"contour\":[{\"type\":\"contour\",\"colorbar\":{\"outlinewidth\":0,\"ticks\":\"\"},\"colorscale\":[[0.0,\"#0d0887\"],[0.1111111111111111,\"#46039f\"],[0.2222222222222222,\"#7201a8\"],[0.3333333333333333,\"#9c179e\"],[0.4444444444444444,\"#bd3786\"],[0.5555555555555556,\"#d8576b\"],[0.6666666666666666,\"#ed7953\"],[0.7777777777777778,\"#fb9f3a\"],[0.8888888888888888,\"#fdca26\"],[1.0,\"#f0f921\"]]}],\"surface\":[{\"type\":\"surface\",\"colorbar\":{\"outlinewidth\":0,\"ticks\":\"\"},\"colorscale\":[[0.0,\"#0d0887\"],[0.1111111111111111,\"#46039f\"],[0.2222222222222222,\"#7201a8\"],[0.3333333333333333,\"#9c179e\"],[0.4444444444444444,\"#bd3786\"],[0.5555555555555556,\"#d8576b\"],[0.6666666666666666,\"#ed7953\"],[0.7777777777777778,\"#fb9f3a\"],[0.8888888888888888,\"#fdca26\"],[1.0,\"#f0f921\"]]}],\"mesh3d\":[{\"type\":\"mesh3d\",\"colorbar\":{\"outlinewidth\":0,\"ticks\":\"\"}}],\"scatter\":[{\"fillpattern\":{\"fillmode\":\"overlay\",\"size\":10,\"solidity\":0.2},\"type\":\"scatter\"}],\"parcoords\":[{\"type\":\"parcoords\",\"line\":{\"colorbar\":{\"outlinewidth\":0,\"ticks\":\"\"}}}],\"scatterpolargl\":[{\"type\":\"scatterpolargl\",\"marker\":{\"colorbar\":{\"outlinewidth\":0,\"ticks\":\"\"}}}],\"bar\":[{\"error_x\":{\"color\":\"#2a3f5f\"},\"error_y\":{\"color\":\"#2a3f5f\"},\"marker\":{\"line\":{\"color\":\"#E5ECF6\",\"width\":0.5},\"pattern\":{\"fillmode\":\"overlay\",\"size\":10,\"solidity\":0.2}},\"type\":\"bar\"}],\"scattergeo\":[{\"type\":\"scattergeo\",\"marker\":{\"colorbar\":{\"outlinewidth\":0,\"ticks\":\"\"}}}],\"scatterpolar\":[{\"type\":\"scatterpolar\",\"marker\":{\"colorbar\":{\"outlinewidth\":0,\"ticks\":\"\"}}}],\"histogram\":[{\"marker\":{\"pattern\":{\"fillmode\":\"overlay\",\"size\":10,\"solidity\":0.2}},\"type\":\"histogram\"}],\"scattergl\":[{\"type\":\"scattergl\",\"marker\":{\"colorbar\":{\"outlinewidth\":0,\"ticks\":\"\"}}}],\"scatter3d\":[{\"type\":\"scatter3d\",\"line\":{\"colorbar\":{\"outlinewidth\":0,\"ticks\":\"\"}},\"marker\":{\"colorbar\":{\"outlinewidth\":0,\"ticks\":\"\"}}}],\"scattermapbox\":[{\"type\":\"scattermapbox\",\"marker\":{\"colorbar\":{\"outlinewidth\":0,\"ticks\":\"\"}}}],\"scatterternary\":[{\"type\":\"scatterternary\",\"marker\":{\"colorbar\":{\"outlinewidth\":0,\"ticks\":\"\"}}}],\"scattercarpet\":[{\"type\":\"scattercarpet\",\"marker\":{\"colorbar\":{\"outlinewidth\":0,\"ticks\":\"\"}}}],\"carpet\":[{\"aaxis\":{\"endlinecolor\":\"#2a3f5f\",\"gridcolor\":\"white\",\"linecolor\":\"white\",\"minorgridcolor\":\"white\",\"startlinecolor\":\"#2a3f5f\"},\"baxis\":{\"endlinecolor\":\"#2a3f5f\",\"gridcolor\":\"white\",\"linecolor\":\"white\",\"minorgridcolor\":\"white\",\"startlinecolor\":\"#2a3f5f\"},\"type\":\"carpet\"}],\"table\":[{\"cells\":{\"fill\":{\"color\":\"#EBF0F8\"},\"line\":{\"color\":\"white\"}},\"header\":{\"fill\":{\"color\":\"#C8D4E3\"},\"line\":{\"color\":\"white\"}},\"type\":\"table\"}],\"barpolar\":[{\"marker\":{\"line\":{\"color\":\"#E5ECF6\",\"width\":0.5},\"pattern\":{\"fillmode\":\"overlay\",\"size\":10,\"solidity\":0.2}},\"type\":\"barpolar\"}],\"pie\":[{\"automargin\":true,\"type\":\"pie\"}]},\"layout\":{\"autotypenumbers\":\"strict\",\"colorway\":[\"#636efa\",\"#EF553B\",\"#00cc96\",\"#ab63fa\",\"#FFA15A\",\"#19d3f3\",\"#FF6692\",\"#B6E880\",\"#FF97FF\",\"#FECB52\"],\"font\":{\"color\":\"#2a3f5f\"},\"hovermode\":\"closest\",\"hoverlabel\":{\"align\":\"left\"},\"paper_bgcolor\":\"white\",\"plot_bgcolor\":\"#E5ECF6\",\"polar\":{\"bgcolor\":\"#E5ECF6\",\"angularaxis\":{\"gridcolor\":\"white\",\"linecolor\":\"white\",\"ticks\":\"\"},\"radialaxis\":{\"gridcolor\":\"white\",\"linecolor\":\"white\",\"ticks\":\"\"}},\"ternary\":{\"bgcolor\":\"#E5ECF6\",\"aaxis\":{\"gridcolor\":\"white\",\"linecolor\":\"white\",\"ticks\":\"\"},\"baxis\":{\"gridcolor\":\"white\",\"linecolor\":\"white\",\"ticks\":\"\"},\"caxis\":{\"gridcolor\":\"white\",\"linecolor\":\"white\",\"ticks\":\"\"}},\"coloraxis\":{\"colorbar\":{\"outlinewidth\":0,\"ticks\":\"\"}},\"colorscale\":{\"sequential\":[[0.0,\"#0d0887\"],[0.1111111111111111,\"#46039f\"],[0.2222222222222222,\"#7201a8\"],[0.3333333333333333,\"#9c179e\"],[0.4444444444444444,\"#bd3786\"],[0.5555555555555556,\"#d8576b\"],[0.6666666666666666,\"#ed7953\"],[0.7777777777777778,\"#fb9f3a\"],[0.8888888888888888,\"#fdca26\"],[1.0,\"#f0f921\"]],\"sequentialminus\":[[0.0,\"#0d0887\"],[0.1111111111111111,\"#46039f\"],[0.2222222222222222,\"#7201a8\"],[0.3333333333333333,\"#9c179e\"],[0.4444444444444444,\"#bd3786\"],[0.5555555555555556,\"#d8576b\"],[0.6666666666666666,\"#ed7953\"],[0.7777777777777778,\"#fb9f3a\"],[0.8888888888888888,\"#fdca26\"],[1.0,\"#f0f921\"]],\"diverging\":[[0,\"#8e0152\"],[0.1,\"#c51b7d\"],[0.2,\"#de77ae\"],[0.3,\"#f1b6da\"],[0.4,\"#fde0ef\"],[0.5,\"#f7f7f7\"],[0.6,\"#e6f5d0\"],[0.7,\"#b8e186\"],[0.8,\"#7fbc41\"],[0.9,\"#4d9221\"],[1,\"#276419\"]]},\"xaxis\":{\"gridcolor\":\"white\",\"linecolor\":\"white\",\"ticks\":\"\",\"title\":{\"standoff\":15},\"zerolinecolor\":\"white\",\"automargin\":true,\"zerolinewidth\":2},\"yaxis\":{\"gridcolor\":\"white\",\"linecolor\":\"white\",\"ticks\":\"\",\"title\":{\"standoff\":15},\"zerolinecolor\":\"white\",\"automargin\":true,\"zerolinewidth\":2},\"scene\":{\"xaxis\":{\"backgroundcolor\":\"#E5ECF6\",\"gridcolor\":\"white\",\"linecolor\":\"white\",\"showbackground\":true,\"ticks\":\"\",\"zerolinecolor\":\"white\",\"gridwidth\":2},\"yaxis\":{\"backgroundcolor\":\"#E5ECF6\",\"gridcolor\":\"white\",\"linecolor\":\"white\",\"showbackground\":true,\"ticks\":\"\",\"zerolinecolor\":\"white\",\"gridwidth\":2},\"zaxis\":{\"backgroundcolor\":\"#E5ECF6\",\"gridcolor\":\"white\",\"linecolor\":\"white\",\"showbackground\":true,\"ticks\":\"\",\"zerolinecolor\":\"white\",\"gridwidth\":2}},\"shapedefaults\":{\"line\":{\"color\":\"#2a3f5f\"}},\"annotationdefaults\":{\"arrowcolor\":\"#2a3f5f\",\"arrowhead\":0,\"arrowwidth\":1},\"geo\":{\"bgcolor\":\"white\",\"landcolor\":\"#E5ECF6\",\"subunitcolor\":\"white\",\"showland\":true,\"showlakes\":true,\"lakecolor\":\"white\"},\"title\":{\"x\":0.05},\"mapbox\":{\"style\":\"light\"}}},\"title\":{\"text\":\"5-Year Yield Curve\"},\"xaxis\":{\"title\":{\"text\":\"Maturity (Years)\"}},\"yaxis\":{\"title\":{\"text\":\"YTM (%)\"}},\"legend\":{\"title\":{\"text\":\"Dates\"}}},                        {\"responsive\": true}                    ).then(function(){\n",
       "                            \n",
       "var gd = document.getElementById('38bfea47-c248-4bfb-ad14-bd675e2878eb');\n",
       "var x = new MutationObserver(function (mutations, observer) {{\n",
       "        var display = window.getComputedStyle(gd).display;\n",
       "        if (!display || display === 'none') {{\n",
       "            console.log([gd, 'removed!']);\n",
       "            Plotly.purge(gd);\n",
       "            observer.disconnect();\n",
       "        }}\n",
       "}});\n",
       "\n",
       "// Listen for the removal of the full notebook cells\n",
       "var notebookContainer = gd.closest('#notebook-container');\n",
       "if (notebookContainer) {{\n",
       "    x.observe(notebookContainer, {childList: true});\n",
       "}}\n",
       "\n",
       "// Listen for the clearing of the current output cell\n",
       "var outputEl = gd.closest('.output');\n",
       "if (outputEl) {{\n",
       "    x.observe(outputEl, {childList: true});\n",
       "}}\n",
       "\n",
       "                        })                };                });            </script>        </div>"
      ]
     },
     "metadata": {},
     "output_type": "display_data"
    }
   ],
   "execution_count": 225
  },
  {
   "cell_type": "markdown",
   "metadata": {},
   "source": [
    "4b - Spot Rate"
   ]
  },
  {
   "cell_type": "code",
   "metadata": {
    "ExecuteTime": {
     "end_time": "2025-01-31T06:22:49.847434Z",
     "start_time": "2025-01-31T06:22:49.839840Z"
    }
   },
   "source": [
    "def bootstrap_spot_curve(bonds):\n",
    "    spot_rates = np.zeros(len(bonds))\n",
    "\n",
    "    for i, (price, coupon_rate, maturity) in enumerate(sorted(bonds, key=lambda x: x[2])):\n",
    "\n",
    "        # Generate time periods for semi-annual payments\n",
    "        time_periods = []\n",
    "        current_time = maturity\n",
    "        while current_time > 0:\n",
    "            time_periods.append(current_time)\n",
    "            current_time -= 0.5\n",
    "        time_periods = time_periods[::-1]\n",
    "\n",
    "        # Generate cash flows for semi-annual payments\n",
    "        num_payments = len(time_periods)  # Semi-annual payments\n",
    "        cash_flows = np.array([coupon_rate / 2] * (num_payments - 1) + [100 + coupon_rate / 2])\n",
    "\n",
    "        if i == 0:\n",
    "            # First bond: Solve directly for the spot rate\n",
    "            spot_rate = ((cash_flows[-1] / price)**(1 / maturity)) - 1\n",
    "        else:\n",
    "            # Subsequent bonds: Use existing spot rates to discount previous cash flows\n",
    "            discounted_sum = sum(cash_flows[j] / (1 + spot_rates[j])**time_periods[j] for j in range(len(cash_flows) - 1))\n",
    "            residual = price - discounted_sum\n",
    "            spot_rate = ((cash_flows[-1] / residual)**(1 / maturity)) - 1\n",
    "\n",
    "        spot_rates[i] = spot_rate\n",
    "\n",
    "    return spot_rates"
   ],
   "outputs": [],
   "execution_count": 226
  },
  {
   "cell_type": "code",
   "metadata": {
    "ExecuteTime": {
     "end_time": "2025-01-31T06:22:49.918680Z",
     "start_time": "2025-01-31T06:22:49.902331Z"
    }
   },
   "source": [
    "fig = go.Figure()\n",
    "\n",
    "for date in date_columns:\n",
    "    bonds = []\n",
    "    d = pd.to_datetime(date)\n",
    "\n",
    "    # Calculate remaining maturity for all rows\n",
    "    Remaining_Maturity = (pd.to_datetime(dirty[\"Maturity Date\"]) - d).dt.days / 365\n",
    "\n",
    "    for i in range(len(data)):\n",
    "        row = dirty.iloc[i]\n",
    "        maturity = Remaining_Maturity.iloc[i]  # Get the maturity for this bond\n",
    "        bond = (row[date], row[\"Coupon\"] * 100, maturity)  # Price, Coupon, Maturity\n",
    "        bonds.append(bond)\n",
    "\n",
    "    # Convert bond data into float format\n",
    "    bonds = [(float(price), float(coupon), float(maturity)) for price, coupon, maturity in bonds]\n",
    "\n",
    "    # Bootstrap spot rates\n",
    "    spot_rates = bootstrap_spot_curve(bonds)\n",
    "    maturities = [bond[2] for bond in bonds]\n",
    "\n",
    "    # Add spot rates to figure\n",
    "    fig.add_trace(\n",
    "        go.Scatter(\n",
    "            x=maturities,\n",
    "            y=[rate * 100 for rate in spot_rates],  # Convert spot rates to percentages\n",
    "            mode='lines+markers',\n",
    "            name=str(date)\n",
    "        )\n",
    "    )\n",
    "\n",
    "fig.update_layout(\n",
    "    title='Spot Curve (1-5 Years)',\n",
    "    xaxis_title='Maturity (Years)',\n",
    "    yaxis_title='Spot Rate (%)',\n",
    "    legend_title=\"Dates\"\n",
    ")\n",
    "\n",
    "fig.show()\n"
   ],
   "outputs": [
    {
     "data": {
      "application/vnd.plotly.v1+json": {
       "data": [
        {
         "mode": "lines+markers",
         "name": "2025-01-06",
         "x": [
          0.14794520547945206,
          0.6520547945205479,
          1.1479452054794521,
          1.652054794520548,
          2.147945205479452,
          2.652054794520548,
          3.1506849315068495,
          3.654794520547945,
          4.1506849315068495,
          4.654794520547945,
          5.1506849315068495
         ],
         "y": [
          3.1459651318202164,
          3.0178972475028543,
          2.9579493952490266,
          2.8853916226786014,
          2.9066664059116842,
          2.915637857595632,
          2.9124898265730392,
          2.9499250490495177,
          2.976694471864194,
          3.0100474305674974,
          3.0287718035507893
         ],
         "type": "scatter"
        },
        {
         "mode": "lines+markers",
         "name": "2025-01-07",
         "x": [
          0.14520547945205478,
          0.6493150684931507,
          1.1452054794520548,
          1.6493150684931508,
          2.1452054794520548,
          2.649315068493151,
          3.147945205479452,
          3.652054794520548,
          4.147945205479452,
          4.652054794520548,
          5.147945205479452
         ],
         "y": [
          3.1819668875902707,
          3.0124893132921216,
          2.9737969285044796,
          2.901501343587265,
          2.923871510019138,
          2.944322822569645,
          2.911077340040169,
          2.936645102453661,
          2.991962945888549,
          3.0290681219529825,
          3.0765969139593174
         ],
         "type": "scatter"
        },
        {
         "mode": "lines+markers",
         "name": "2025-01-08",
         "x": [
          0.14246575342465753,
          0.6465753424657534,
          1.1424657534246576,
          1.6465753424657534,
          2.1424657534246574,
          2.6465753424657534,
          3.1452054794520548,
          3.649315068493151,
          4.145205479452055,
          4.64931506849315,
          5.145205479452055
         ],
         "y": [
          3.1470686049589025,
          3.0394853512425435,
          2.9897122250402974,
          2.898079684846677,
          2.9310303170326124,
          2.9525900156539775,
          2.9524764898043454,
          2.9818555271167835,
          3.0198417810692435,
          3.0519897595657763,
          3.0913257324226784
         ],
         "type": "scatter"
        },
        {
         "mode": "lines+markers",
         "name": "2025-01-09",
         "x": [
          0.13972602739726028,
          0.6438356164383562,
          1.1397260273972603,
          1.643835616438356,
          2.1397260273972605,
          2.643835616438356,
          3.1424657534246574,
          3.6465753424657534,
          4.142465753424657,
          4.646575342465753,
          5.142465753424657
         ],
         "y": [
          3.2582499772479734,
          3.0178096715327563,
          2.9683880351547343,
          2.881757065628343,
          2.9079237192639384,
          2.936721710842738,
          2.9457317828597063,
          2.9978580190640924,
          3.027991892173576,
          3.0670535315791447,
          3.0892103747155675
         ],
         "type": "scatter"
        },
        {
         "mode": "lines+markers",
         "name": "2025-01-10",
         "x": [
          0.136986301369863,
          0.6410958904109589,
          1.1369863013698631,
          1.641095890410959,
          2.136986301369863,
          2.6410958904109587,
          3.1397260273972605,
          3.643835616438356,
          4.13972602739726,
          4.6438356164383565,
          5.13972602739726
         ],
         "y": [
          3.2234617805628973,
          3.1104708161695527,
          3.0685768068396513,
          2.9956780003086214,
          3.0313540164531583,
          3.0625697331281287,
          3.010544741081822,
          3.0388566005857154,
          3.1148661258627586,
          3.1583414202062343,
          3.218181354154326
         ],
         "type": "scatter"
        },
        {
         "mode": "lines+markers",
         "name": "2025-01-13",
         "x": [
          0.12876712328767123,
          0.6328767123287671,
          1.1287671232876713,
          1.632876712328767,
          2.128767123287671,
          2.632876712328767,
          3.1315068493150684,
          3.6356164383561644,
          4.131506849315069,
          4.635616438356164,
          5.131506849315069
         ],
         "y": [
          3.430511044555451,
          3.161261677780214,
          3.0798771941247693,
          3.0649203489472976,
          3.0941689500477265,
          3.1204072240124336,
          3.098966481117138,
          3.1284012318723464,
          3.1744948283814134,
          3.2309689688187815,
          3.2961149533851986
         ],
         "type": "scatter"
        },
        {
         "mode": "lines+markers",
         "name": "2025-01-14",
         "x": [
          0.12602739726027398,
          0.6301369863013698,
          1.126027397260274,
          1.63013698630137,
          2.126027397260274,
          2.6301369863013697,
          3.128767123287671,
          3.632876712328767,
          4.1287671232876715,
          4.632876712328767,
          5.1287671232876715
         ],
         "y": [
          3.4783105621017274,
          3.172953808126744,
          3.191035804228304,
          3.107665290465622,
          3.1422491574705225,
          3.1652856068578705,
          3.181809170688621,
          3.2190499991910704,
          3.2526592519372066,
          3.2967132986016168,
          3.345802026011513
         ],
         "type": "scatter"
        },
        {
         "mode": "lines+markers",
         "name": "2025-01-15",
         "x": [
          0.1232876712328767,
          0.6273972602739726,
          1.1232876712328768,
          1.6273972602739726,
          2.1232876712328768,
          2.627397260273973,
          3.126027397260274,
          3.6301369863013697,
          4.126027397260274,
          4.63013698630137,
          5.126027397260274
         ],
         "y": [
          3.1936324790084125,
          3.1180309286122254,
          3.1034236550762317,
          3.0191128157451175,
          3.058116956742407,
          3.0927740488613464,
          3.1068430006136127,
          3.15118084116246,
          3.1881095287220385,
          3.233575237328634,
          3.2617601498814874
         ],
         "type": "scatter"
        },
        {
         "mode": "lines+markers",
         "name": "2025-01-16",
         "x": [
          0.12054794520547946,
          0.6246575342465753,
          1.1205479452054794,
          1.6246575342465754,
          2.1205479452054794,
          2.6246575342465754,
          3.1232876712328768,
          3.627397260273973,
          4.123287671232877,
          4.627397260273972,
          5.123287671232877
         ],
         "y": [
          3.1527277960536892,
          3.0122629483857244,
          3.0060656354773174,
          2.9040890461363933,
          2.9382281974267066,
          2.970796808082121,
          2.990772956467369,
          3.0010560787916862,
          3.0409632894360827,
          3.0962518549267015,
          3.121341070767869
         ],
         "type": "scatter"
        },
        {
         "mode": "lines+markers",
         "name": "2025-01-17",
         "x": [
          0.1178082191780822,
          0.6219178082191781,
          1.1178082191780823,
          1.621917808219178,
          2.117808219178082,
          2.621917808219178,
          3.1205479452054794,
          3.6246575342465754,
          4.120547945205479,
          4.624657534246575,
          5.120547945205479
         ],
         "y": [
          3.0227005909640337,
          2.9730465065805456,
          2.965406346526267,
          2.881157221756836,
          2.9202580365669917,
          2.9593409854445696,
          2.966541736904915,
          2.970996381080515,
          3.014479469711362,
          3.067665018923793,
          3.106998293820795
         ],
         "type": "scatter"
        }
       ],
       "layout": {
        "template": {
         "data": {
          "histogram2dcontour": [
           {
            "type": "histogram2dcontour",
            "colorbar": {
             "outlinewidth": 0,
             "ticks": ""
            },
            "colorscale": [
             [
              0.0,
              "#0d0887"
             ],
             [
              0.1111111111111111,
              "#46039f"
             ],
             [
              0.2222222222222222,
              "#7201a8"
             ],
             [
              0.3333333333333333,
              "#9c179e"
             ],
             [
              0.4444444444444444,
              "#bd3786"
             ],
             [
              0.5555555555555556,
              "#d8576b"
             ],
             [
              0.6666666666666666,
              "#ed7953"
             ],
             [
              0.7777777777777778,
              "#fb9f3a"
             ],
             [
              0.8888888888888888,
              "#fdca26"
             ],
             [
              1.0,
              "#f0f921"
             ]
            ]
           }
          ],
          "choropleth": [
           {
            "type": "choropleth",
            "colorbar": {
             "outlinewidth": 0,
             "ticks": ""
            }
           }
          ],
          "histogram2d": [
           {
            "type": "histogram2d",
            "colorbar": {
             "outlinewidth": 0,
             "ticks": ""
            },
            "colorscale": [
             [
              0.0,
              "#0d0887"
             ],
             [
              0.1111111111111111,
              "#46039f"
             ],
             [
              0.2222222222222222,
              "#7201a8"
             ],
             [
              0.3333333333333333,
              "#9c179e"
             ],
             [
              0.4444444444444444,
              "#bd3786"
             ],
             [
              0.5555555555555556,
              "#d8576b"
             ],
             [
              0.6666666666666666,
              "#ed7953"
             ],
             [
              0.7777777777777778,
              "#fb9f3a"
             ],
             [
              0.8888888888888888,
              "#fdca26"
             ],
             [
              1.0,
              "#f0f921"
             ]
            ]
           }
          ],
          "heatmap": [
           {
            "type": "heatmap",
            "colorbar": {
             "outlinewidth": 0,
             "ticks": ""
            },
            "colorscale": [
             [
              0.0,
              "#0d0887"
             ],
             [
              0.1111111111111111,
              "#46039f"
             ],
             [
              0.2222222222222222,
              "#7201a8"
             ],
             [
              0.3333333333333333,
              "#9c179e"
             ],
             [
              0.4444444444444444,
              "#bd3786"
             ],
             [
              0.5555555555555556,
              "#d8576b"
             ],
             [
              0.6666666666666666,
              "#ed7953"
             ],
             [
              0.7777777777777778,
              "#fb9f3a"
             ],
             [
              0.8888888888888888,
              "#fdca26"
             ],
             [
              1.0,
              "#f0f921"
             ]
            ]
           }
          ],
          "heatmapgl": [
           {
            "type": "heatmapgl",
            "colorbar": {
             "outlinewidth": 0,
             "ticks": ""
            },
            "colorscale": [
             [
              0.0,
              "#0d0887"
             ],
             [
              0.1111111111111111,
              "#46039f"
             ],
             [
              0.2222222222222222,
              "#7201a8"
             ],
             [
              0.3333333333333333,
              "#9c179e"
             ],
             [
              0.4444444444444444,
              "#bd3786"
             ],
             [
              0.5555555555555556,
              "#d8576b"
             ],
             [
              0.6666666666666666,
              "#ed7953"
             ],
             [
              0.7777777777777778,
              "#fb9f3a"
             ],
             [
              0.8888888888888888,
              "#fdca26"
             ],
             [
              1.0,
              "#f0f921"
             ]
            ]
           }
          ],
          "contourcarpet": [
           {
            "type": "contourcarpet",
            "colorbar": {
             "outlinewidth": 0,
             "ticks": ""
            }
           }
          ],
          "contour": [
           {
            "type": "contour",
            "colorbar": {
             "outlinewidth": 0,
             "ticks": ""
            },
            "colorscale": [
             [
              0.0,
              "#0d0887"
             ],
             [
              0.1111111111111111,
              "#46039f"
             ],
             [
              0.2222222222222222,
              "#7201a8"
             ],
             [
              0.3333333333333333,
              "#9c179e"
             ],
             [
              0.4444444444444444,
              "#bd3786"
             ],
             [
              0.5555555555555556,
              "#d8576b"
             ],
             [
              0.6666666666666666,
              "#ed7953"
             ],
             [
              0.7777777777777778,
              "#fb9f3a"
             ],
             [
              0.8888888888888888,
              "#fdca26"
             ],
             [
              1.0,
              "#f0f921"
             ]
            ]
           }
          ],
          "surface": [
           {
            "type": "surface",
            "colorbar": {
             "outlinewidth": 0,
             "ticks": ""
            },
            "colorscale": [
             [
              0.0,
              "#0d0887"
             ],
             [
              0.1111111111111111,
              "#46039f"
             ],
             [
              0.2222222222222222,
              "#7201a8"
             ],
             [
              0.3333333333333333,
              "#9c179e"
             ],
             [
              0.4444444444444444,
              "#bd3786"
             ],
             [
              0.5555555555555556,
              "#d8576b"
             ],
             [
              0.6666666666666666,
              "#ed7953"
             ],
             [
              0.7777777777777778,
              "#fb9f3a"
             ],
             [
              0.8888888888888888,
              "#fdca26"
             ],
             [
              1.0,
              "#f0f921"
             ]
            ]
           }
          ],
          "mesh3d": [
           {
            "type": "mesh3d",
            "colorbar": {
             "outlinewidth": 0,
             "ticks": ""
            }
           }
          ],
          "scatter": [
           {
            "fillpattern": {
             "fillmode": "overlay",
             "size": 10,
             "solidity": 0.2
            },
            "type": "scatter"
           }
          ],
          "parcoords": [
           {
            "type": "parcoords",
            "line": {
             "colorbar": {
              "outlinewidth": 0,
              "ticks": ""
             }
            }
           }
          ],
          "scatterpolargl": [
           {
            "type": "scatterpolargl",
            "marker": {
             "colorbar": {
              "outlinewidth": 0,
              "ticks": ""
             }
            }
           }
          ],
          "bar": [
           {
            "error_x": {
             "color": "#2a3f5f"
            },
            "error_y": {
             "color": "#2a3f5f"
            },
            "marker": {
             "line": {
              "color": "#E5ECF6",
              "width": 0.5
             },
             "pattern": {
              "fillmode": "overlay",
              "size": 10,
              "solidity": 0.2
             }
            },
            "type": "bar"
           }
          ],
          "scattergeo": [
           {
            "type": "scattergeo",
            "marker": {
             "colorbar": {
              "outlinewidth": 0,
              "ticks": ""
             }
            }
           }
          ],
          "scatterpolar": [
           {
            "type": "scatterpolar",
            "marker": {
             "colorbar": {
              "outlinewidth": 0,
              "ticks": ""
             }
            }
           }
          ],
          "histogram": [
           {
            "marker": {
             "pattern": {
              "fillmode": "overlay",
              "size": 10,
              "solidity": 0.2
             }
            },
            "type": "histogram"
           }
          ],
          "scattergl": [
           {
            "type": "scattergl",
            "marker": {
             "colorbar": {
              "outlinewidth": 0,
              "ticks": ""
             }
            }
           }
          ],
          "scatter3d": [
           {
            "type": "scatter3d",
            "line": {
             "colorbar": {
              "outlinewidth": 0,
              "ticks": ""
             }
            },
            "marker": {
             "colorbar": {
              "outlinewidth": 0,
              "ticks": ""
             }
            }
           }
          ],
          "scattermapbox": [
           {
            "type": "scattermapbox",
            "marker": {
             "colorbar": {
              "outlinewidth": 0,
              "ticks": ""
             }
            }
           }
          ],
          "scatterternary": [
           {
            "type": "scatterternary",
            "marker": {
             "colorbar": {
              "outlinewidth": 0,
              "ticks": ""
             }
            }
           }
          ],
          "scattercarpet": [
           {
            "type": "scattercarpet",
            "marker": {
             "colorbar": {
              "outlinewidth": 0,
              "ticks": ""
             }
            }
           }
          ],
          "carpet": [
           {
            "aaxis": {
             "endlinecolor": "#2a3f5f",
             "gridcolor": "white",
             "linecolor": "white",
             "minorgridcolor": "white",
             "startlinecolor": "#2a3f5f"
            },
            "baxis": {
             "endlinecolor": "#2a3f5f",
             "gridcolor": "white",
             "linecolor": "white",
             "minorgridcolor": "white",
             "startlinecolor": "#2a3f5f"
            },
            "type": "carpet"
           }
          ],
          "table": [
           {
            "cells": {
             "fill": {
              "color": "#EBF0F8"
             },
             "line": {
              "color": "white"
             }
            },
            "header": {
             "fill": {
              "color": "#C8D4E3"
             },
             "line": {
              "color": "white"
             }
            },
            "type": "table"
           }
          ],
          "barpolar": [
           {
            "marker": {
             "line": {
              "color": "#E5ECF6",
              "width": 0.5
             },
             "pattern": {
              "fillmode": "overlay",
              "size": 10,
              "solidity": 0.2
             }
            },
            "type": "barpolar"
           }
          ],
          "pie": [
           {
            "automargin": true,
            "type": "pie"
           }
          ]
         },
         "layout": {
          "autotypenumbers": "strict",
          "colorway": [
           "#636efa",
           "#EF553B",
           "#00cc96",
           "#ab63fa",
           "#FFA15A",
           "#19d3f3",
           "#FF6692",
           "#B6E880",
           "#FF97FF",
           "#FECB52"
          ],
          "font": {
           "color": "#2a3f5f"
          },
          "hovermode": "closest",
          "hoverlabel": {
           "align": "left"
          },
          "paper_bgcolor": "white",
          "plot_bgcolor": "#E5ECF6",
          "polar": {
           "bgcolor": "#E5ECF6",
           "angularaxis": {
            "gridcolor": "white",
            "linecolor": "white",
            "ticks": ""
           },
           "radialaxis": {
            "gridcolor": "white",
            "linecolor": "white",
            "ticks": ""
           }
          },
          "ternary": {
           "bgcolor": "#E5ECF6",
           "aaxis": {
            "gridcolor": "white",
            "linecolor": "white",
            "ticks": ""
           },
           "baxis": {
            "gridcolor": "white",
            "linecolor": "white",
            "ticks": ""
           },
           "caxis": {
            "gridcolor": "white",
            "linecolor": "white",
            "ticks": ""
           }
          },
          "coloraxis": {
           "colorbar": {
            "outlinewidth": 0,
            "ticks": ""
           }
          },
          "colorscale": {
           "sequential": [
            [
             0.0,
             "#0d0887"
            ],
            [
             0.1111111111111111,
             "#46039f"
            ],
            [
             0.2222222222222222,
             "#7201a8"
            ],
            [
             0.3333333333333333,
             "#9c179e"
            ],
            [
             0.4444444444444444,
             "#bd3786"
            ],
            [
             0.5555555555555556,
             "#d8576b"
            ],
            [
             0.6666666666666666,
             "#ed7953"
            ],
            [
             0.7777777777777778,
             "#fb9f3a"
            ],
            [
             0.8888888888888888,
             "#fdca26"
            ],
            [
             1.0,
             "#f0f921"
            ]
           ],
           "sequentialminus": [
            [
             0.0,
             "#0d0887"
            ],
            [
             0.1111111111111111,
             "#46039f"
            ],
            [
             0.2222222222222222,
             "#7201a8"
            ],
            [
             0.3333333333333333,
             "#9c179e"
            ],
            [
             0.4444444444444444,
             "#bd3786"
            ],
            [
             0.5555555555555556,
             "#d8576b"
            ],
            [
             0.6666666666666666,
             "#ed7953"
            ],
            [
             0.7777777777777778,
             "#fb9f3a"
            ],
            [
             0.8888888888888888,
             "#fdca26"
            ],
            [
             1.0,
             "#f0f921"
            ]
           ],
           "diverging": [
            [
             0,
             "#8e0152"
            ],
            [
             0.1,
             "#c51b7d"
            ],
            [
             0.2,
             "#de77ae"
            ],
            [
             0.3,
             "#f1b6da"
            ],
            [
             0.4,
             "#fde0ef"
            ],
            [
             0.5,
             "#f7f7f7"
            ],
            [
             0.6,
             "#e6f5d0"
            ],
            [
             0.7,
             "#b8e186"
            ],
            [
             0.8,
             "#7fbc41"
            ],
            [
             0.9,
             "#4d9221"
            ],
            [
             1,
             "#276419"
            ]
           ]
          },
          "xaxis": {
           "gridcolor": "white",
           "linecolor": "white",
           "ticks": "",
           "title": {
            "standoff": 15
           },
           "zerolinecolor": "white",
           "automargin": true,
           "zerolinewidth": 2
          },
          "yaxis": {
           "gridcolor": "white",
           "linecolor": "white",
           "ticks": "",
           "title": {
            "standoff": 15
           },
           "zerolinecolor": "white",
           "automargin": true,
           "zerolinewidth": 2
          },
          "scene": {
           "xaxis": {
            "backgroundcolor": "#E5ECF6",
            "gridcolor": "white",
            "linecolor": "white",
            "showbackground": true,
            "ticks": "",
            "zerolinecolor": "white",
            "gridwidth": 2
           },
           "yaxis": {
            "backgroundcolor": "#E5ECF6",
            "gridcolor": "white",
            "linecolor": "white",
            "showbackground": true,
            "ticks": "",
            "zerolinecolor": "white",
            "gridwidth": 2
           },
           "zaxis": {
            "backgroundcolor": "#E5ECF6",
            "gridcolor": "white",
            "linecolor": "white",
            "showbackground": true,
            "ticks": "",
            "zerolinecolor": "white",
            "gridwidth": 2
           }
          },
          "shapedefaults": {
           "line": {
            "color": "#2a3f5f"
           }
          },
          "annotationdefaults": {
           "arrowcolor": "#2a3f5f",
           "arrowhead": 0,
           "arrowwidth": 1
          },
          "geo": {
           "bgcolor": "white",
           "landcolor": "#E5ECF6",
           "subunitcolor": "white",
           "showland": true,
           "showlakes": true,
           "lakecolor": "white"
          },
          "title": {
           "x": 0.05
          },
          "mapbox": {
           "style": "light"
          }
         }
        },
        "title": {
         "text": "Spot Curve (1-5 Years)"
        },
        "xaxis": {
         "title": {
          "text": "Maturity (Years)"
         }
        },
        "yaxis": {
         "title": {
          "text": "Spot Rate (%)"
         }
        },
        "legend": {
         "title": {
          "text": "Dates"
         }
        }
       },
       "config": {
        "plotlyServerURL": "https://plot.ly"
       }
      },
      "text/html": [
       "<div>                            <div id=\"90812bf2-d185-489c-840d-152d3381fc7b\" class=\"plotly-graph-div\" style=\"height:525px; width:100%;\"></div>            <script type=\"text/javascript\">                require([\"plotly\"], function(Plotly) {                    window.PLOTLYENV=window.PLOTLYENV || {};                                    if (document.getElementById(\"90812bf2-d185-489c-840d-152d3381fc7b\")) {                    Plotly.newPlot(                        \"90812bf2-d185-489c-840d-152d3381fc7b\",                        [{\"mode\":\"lines+markers\",\"name\":\"2025-01-06\",\"x\":[0.14794520547945206,0.6520547945205479,1.1479452054794521,1.652054794520548,2.147945205479452,2.652054794520548,3.1506849315068495,3.654794520547945,4.1506849315068495,4.654794520547945,5.1506849315068495],\"y\":[3.1459651318202164,3.0178972475028543,2.9579493952490266,2.8853916226786014,2.9066664059116842,2.915637857595632,2.9124898265730392,2.9499250490495177,2.976694471864194,3.0100474305674974,3.0287718035507893],\"type\":\"scatter\"},{\"mode\":\"lines+markers\",\"name\":\"2025-01-07\",\"x\":[0.14520547945205478,0.6493150684931507,1.1452054794520548,1.6493150684931508,2.1452054794520548,2.649315068493151,3.147945205479452,3.652054794520548,4.147945205479452,4.652054794520548,5.147945205479452],\"y\":[3.1819668875902707,3.0124893132921216,2.9737969285044796,2.901501343587265,2.923871510019138,2.944322822569645,2.911077340040169,2.936645102453661,2.991962945888549,3.0290681219529825,3.0765969139593174],\"type\":\"scatter\"},{\"mode\":\"lines+markers\",\"name\":\"2025-01-08\",\"x\":[0.14246575342465753,0.6465753424657534,1.1424657534246576,1.6465753424657534,2.1424657534246574,2.6465753424657534,3.1452054794520548,3.649315068493151,4.145205479452055,4.64931506849315,5.145205479452055],\"y\":[3.1470686049589025,3.0394853512425435,2.9897122250402974,2.898079684846677,2.9310303170326124,2.9525900156539775,2.9524764898043454,2.9818555271167835,3.0198417810692435,3.0519897595657763,3.0913257324226784],\"type\":\"scatter\"},{\"mode\":\"lines+markers\",\"name\":\"2025-01-09\",\"x\":[0.13972602739726028,0.6438356164383562,1.1397260273972603,1.643835616438356,2.1397260273972605,2.643835616438356,3.1424657534246574,3.6465753424657534,4.142465753424657,4.646575342465753,5.142465753424657],\"y\":[3.2582499772479734,3.0178096715327563,2.9683880351547343,2.881757065628343,2.9079237192639384,2.936721710842738,2.9457317828597063,2.9978580190640924,3.027991892173576,3.0670535315791447,3.0892103747155675],\"type\":\"scatter\"},{\"mode\":\"lines+markers\",\"name\":\"2025-01-10\",\"x\":[0.136986301369863,0.6410958904109589,1.1369863013698631,1.641095890410959,2.136986301369863,2.6410958904109587,3.1397260273972605,3.643835616438356,4.13972602739726,4.6438356164383565,5.13972602739726],\"y\":[3.2234617805628973,3.1104708161695527,3.0685768068396513,2.9956780003086214,3.0313540164531583,3.0625697331281287,3.010544741081822,3.0388566005857154,3.1148661258627586,3.1583414202062343,3.218181354154326],\"type\":\"scatter\"},{\"mode\":\"lines+markers\",\"name\":\"2025-01-13\",\"x\":[0.12876712328767123,0.6328767123287671,1.1287671232876713,1.632876712328767,2.128767123287671,2.632876712328767,3.1315068493150684,3.6356164383561644,4.131506849315069,4.635616438356164,5.131506849315069],\"y\":[3.430511044555451,3.161261677780214,3.0798771941247693,3.0649203489472976,3.0941689500477265,3.1204072240124336,3.098966481117138,3.1284012318723464,3.1744948283814134,3.2309689688187815,3.2961149533851986],\"type\":\"scatter\"},{\"mode\":\"lines+markers\",\"name\":\"2025-01-14\",\"x\":[0.12602739726027398,0.6301369863013698,1.126027397260274,1.63013698630137,2.126027397260274,2.6301369863013697,3.128767123287671,3.632876712328767,4.1287671232876715,4.632876712328767,5.1287671232876715],\"y\":[3.4783105621017274,3.172953808126744,3.191035804228304,3.107665290465622,3.1422491574705225,3.1652856068578705,3.181809170688621,3.2190499991910704,3.2526592519372066,3.2967132986016168,3.345802026011513],\"type\":\"scatter\"},{\"mode\":\"lines+markers\",\"name\":\"2025-01-15\",\"x\":[0.1232876712328767,0.6273972602739726,1.1232876712328768,1.6273972602739726,2.1232876712328768,2.627397260273973,3.126027397260274,3.6301369863013697,4.126027397260274,4.63013698630137,5.126027397260274],\"y\":[3.1936324790084125,3.1180309286122254,3.1034236550762317,3.0191128157451175,3.058116956742407,3.0927740488613464,3.1068430006136127,3.15118084116246,3.1881095287220385,3.233575237328634,3.2617601498814874],\"type\":\"scatter\"},{\"mode\":\"lines+markers\",\"name\":\"2025-01-16\",\"x\":[0.12054794520547946,0.6246575342465753,1.1205479452054794,1.6246575342465754,2.1205479452054794,2.6246575342465754,3.1232876712328768,3.627397260273973,4.123287671232877,4.627397260273972,5.123287671232877],\"y\":[3.1527277960536892,3.0122629483857244,3.0060656354773174,2.9040890461363933,2.9382281974267066,2.970796808082121,2.990772956467369,3.0010560787916862,3.0409632894360827,3.0962518549267015,3.121341070767869],\"type\":\"scatter\"},{\"mode\":\"lines+markers\",\"name\":\"2025-01-17\",\"x\":[0.1178082191780822,0.6219178082191781,1.1178082191780823,1.621917808219178,2.117808219178082,2.621917808219178,3.1205479452054794,3.6246575342465754,4.120547945205479,4.624657534246575,5.120547945205479],\"y\":[3.0227005909640337,2.9730465065805456,2.965406346526267,2.881157221756836,2.9202580365669917,2.9593409854445696,2.966541736904915,2.970996381080515,3.014479469711362,3.067665018923793,3.106998293820795],\"type\":\"scatter\"}],                        {\"template\":{\"data\":{\"histogram2dcontour\":[{\"type\":\"histogram2dcontour\",\"colorbar\":{\"outlinewidth\":0,\"ticks\":\"\"},\"colorscale\":[[0.0,\"#0d0887\"],[0.1111111111111111,\"#46039f\"],[0.2222222222222222,\"#7201a8\"],[0.3333333333333333,\"#9c179e\"],[0.4444444444444444,\"#bd3786\"],[0.5555555555555556,\"#d8576b\"],[0.6666666666666666,\"#ed7953\"],[0.7777777777777778,\"#fb9f3a\"],[0.8888888888888888,\"#fdca26\"],[1.0,\"#f0f921\"]]}],\"choropleth\":[{\"type\":\"choropleth\",\"colorbar\":{\"outlinewidth\":0,\"ticks\":\"\"}}],\"histogram2d\":[{\"type\":\"histogram2d\",\"colorbar\":{\"outlinewidth\":0,\"ticks\":\"\"},\"colorscale\":[[0.0,\"#0d0887\"],[0.1111111111111111,\"#46039f\"],[0.2222222222222222,\"#7201a8\"],[0.3333333333333333,\"#9c179e\"],[0.4444444444444444,\"#bd3786\"],[0.5555555555555556,\"#d8576b\"],[0.6666666666666666,\"#ed7953\"],[0.7777777777777778,\"#fb9f3a\"],[0.8888888888888888,\"#fdca26\"],[1.0,\"#f0f921\"]]}],\"heatmap\":[{\"type\":\"heatmap\",\"colorbar\":{\"outlinewidth\":0,\"ticks\":\"\"},\"colorscale\":[[0.0,\"#0d0887\"],[0.1111111111111111,\"#46039f\"],[0.2222222222222222,\"#7201a8\"],[0.3333333333333333,\"#9c179e\"],[0.4444444444444444,\"#bd3786\"],[0.5555555555555556,\"#d8576b\"],[0.6666666666666666,\"#ed7953\"],[0.7777777777777778,\"#fb9f3a\"],[0.8888888888888888,\"#fdca26\"],[1.0,\"#f0f921\"]]}],\"heatmapgl\":[{\"type\":\"heatmapgl\",\"colorbar\":{\"outlinewidth\":0,\"ticks\":\"\"},\"colorscale\":[[0.0,\"#0d0887\"],[0.1111111111111111,\"#46039f\"],[0.2222222222222222,\"#7201a8\"],[0.3333333333333333,\"#9c179e\"],[0.4444444444444444,\"#bd3786\"],[0.5555555555555556,\"#d8576b\"],[0.6666666666666666,\"#ed7953\"],[0.7777777777777778,\"#fb9f3a\"],[0.8888888888888888,\"#fdca26\"],[1.0,\"#f0f921\"]]}],\"contourcarpet\":[{\"type\":\"contourcarpet\",\"colorbar\":{\"outlinewidth\":0,\"ticks\":\"\"}}],\"contour\":[{\"type\":\"contour\",\"colorbar\":{\"outlinewidth\":0,\"ticks\":\"\"},\"colorscale\":[[0.0,\"#0d0887\"],[0.1111111111111111,\"#46039f\"],[0.2222222222222222,\"#7201a8\"],[0.3333333333333333,\"#9c179e\"],[0.4444444444444444,\"#bd3786\"],[0.5555555555555556,\"#d8576b\"],[0.6666666666666666,\"#ed7953\"],[0.7777777777777778,\"#fb9f3a\"],[0.8888888888888888,\"#fdca26\"],[1.0,\"#f0f921\"]]}],\"surface\":[{\"type\":\"surface\",\"colorbar\":{\"outlinewidth\":0,\"ticks\":\"\"},\"colorscale\":[[0.0,\"#0d0887\"],[0.1111111111111111,\"#46039f\"],[0.2222222222222222,\"#7201a8\"],[0.3333333333333333,\"#9c179e\"],[0.4444444444444444,\"#bd3786\"],[0.5555555555555556,\"#d8576b\"],[0.6666666666666666,\"#ed7953\"],[0.7777777777777778,\"#fb9f3a\"],[0.8888888888888888,\"#fdca26\"],[1.0,\"#f0f921\"]]}],\"mesh3d\":[{\"type\":\"mesh3d\",\"colorbar\":{\"outlinewidth\":0,\"ticks\":\"\"}}],\"scatter\":[{\"fillpattern\":{\"fillmode\":\"overlay\",\"size\":10,\"solidity\":0.2},\"type\":\"scatter\"}],\"parcoords\":[{\"type\":\"parcoords\",\"line\":{\"colorbar\":{\"outlinewidth\":0,\"ticks\":\"\"}}}],\"scatterpolargl\":[{\"type\":\"scatterpolargl\",\"marker\":{\"colorbar\":{\"outlinewidth\":0,\"ticks\":\"\"}}}],\"bar\":[{\"error_x\":{\"color\":\"#2a3f5f\"},\"error_y\":{\"color\":\"#2a3f5f\"},\"marker\":{\"line\":{\"color\":\"#E5ECF6\",\"width\":0.5},\"pattern\":{\"fillmode\":\"overlay\",\"size\":10,\"solidity\":0.2}},\"type\":\"bar\"}],\"scattergeo\":[{\"type\":\"scattergeo\",\"marker\":{\"colorbar\":{\"outlinewidth\":0,\"ticks\":\"\"}}}],\"scatterpolar\":[{\"type\":\"scatterpolar\",\"marker\":{\"colorbar\":{\"outlinewidth\":0,\"ticks\":\"\"}}}],\"histogram\":[{\"marker\":{\"pattern\":{\"fillmode\":\"overlay\",\"size\":10,\"solidity\":0.2}},\"type\":\"histogram\"}],\"scattergl\":[{\"type\":\"scattergl\",\"marker\":{\"colorbar\":{\"outlinewidth\":0,\"ticks\":\"\"}}}],\"scatter3d\":[{\"type\":\"scatter3d\",\"line\":{\"colorbar\":{\"outlinewidth\":0,\"ticks\":\"\"}},\"marker\":{\"colorbar\":{\"outlinewidth\":0,\"ticks\":\"\"}}}],\"scattermapbox\":[{\"type\":\"scattermapbox\",\"marker\":{\"colorbar\":{\"outlinewidth\":0,\"ticks\":\"\"}}}],\"scatterternary\":[{\"type\":\"scatterternary\",\"marker\":{\"colorbar\":{\"outlinewidth\":0,\"ticks\":\"\"}}}],\"scattercarpet\":[{\"type\":\"scattercarpet\",\"marker\":{\"colorbar\":{\"outlinewidth\":0,\"ticks\":\"\"}}}],\"carpet\":[{\"aaxis\":{\"endlinecolor\":\"#2a3f5f\",\"gridcolor\":\"white\",\"linecolor\":\"white\",\"minorgridcolor\":\"white\",\"startlinecolor\":\"#2a3f5f\"},\"baxis\":{\"endlinecolor\":\"#2a3f5f\",\"gridcolor\":\"white\",\"linecolor\":\"white\",\"minorgridcolor\":\"white\",\"startlinecolor\":\"#2a3f5f\"},\"type\":\"carpet\"}],\"table\":[{\"cells\":{\"fill\":{\"color\":\"#EBF0F8\"},\"line\":{\"color\":\"white\"}},\"header\":{\"fill\":{\"color\":\"#C8D4E3\"},\"line\":{\"color\":\"white\"}},\"type\":\"table\"}],\"barpolar\":[{\"marker\":{\"line\":{\"color\":\"#E5ECF6\",\"width\":0.5},\"pattern\":{\"fillmode\":\"overlay\",\"size\":10,\"solidity\":0.2}},\"type\":\"barpolar\"}],\"pie\":[{\"automargin\":true,\"type\":\"pie\"}]},\"layout\":{\"autotypenumbers\":\"strict\",\"colorway\":[\"#636efa\",\"#EF553B\",\"#00cc96\",\"#ab63fa\",\"#FFA15A\",\"#19d3f3\",\"#FF6692\",\"#B6E880\",\"#FF97FF\",\"#FECB52\"],\"font\":{\"color\":\"#2a3f5f\"},\"hovermode\":\"closest\",\"hoverlabel\":{\"align\":\"left\"},\"paper_bgcolor\":\"white\",\"plot_bgcolor\":\"#E5ECF6\",\"polar\":{\"bgcolor\":\"#E5ECF6\",\"angularaxis\":{\"gridcolor\":\"white\",\"linecolor\":\"white\",\"ticks\":\"\"},\"radialaxis\":{\"gridcolor\":\"white\",\"linecolor\":\"white\",\"ticks\":\"\"}},\"ternary\":{\"bgcolor\":\"#E5ECF6\",\"aaxis\":{\"gridcolor\":\"white\",\"linecolor\":\"white\",\"ticks\":\"\"},\"baxis\":{\"gridcolor\":\"white\",\"linecolor\":\"white\",\"ticks\":\"\"},\"caxis\":{\"gridcolor\":\"white\",\"linecolor\":\"white\",\"ticks\":\"\"}},\"coloraxis\":{\"colorbar\":{\"outlinewidth\":0,\"ticks\":\"\"}},\"colorscale\":{\"sequential\":[[0.0,\"#0d0887\"],[0.1111111111111111,\"#46039f\"],[0.2222222222222222,\"#7201a8\"],[0.3333333333333333,\"#9c179e\"],[0.4444444444444444,\"#bd3786\"],[0.5555555555555556,\"#d8576b\"],[0.6666666666666666,\"#ed7953\"],[0.7777777777777778,\"#fb9f3a\"],[0.8888888888888888,\"#fdca26\"],[1.0,\"#f0f921\"]],\"sequentialminus\":[[0.0,\"#0d0887\"],[0.1111111111111111,\"#46039f\"],[0.2222222222222222,\"#7201a8\"],[0.3333333333333333,\"#9c179e\"],[0.4444444444444444,\"#bd3786\"],[0.5555555555555556,\"#d8576b\"],[0.6666666666666666,\"#ed7953\"],[0.7777777777777778,\"#fb9f3a\"],[0.8888888888888888,\"#fdca26\"],[1.0,\"#f0f921\"]],\"diverging\":[[0,\"#8e0152\"],[0.1,\"#c51b7d\"],[0.2,\"#de77ae\"],[0.3,\"#f1b6da\"],[0.4,\"#fde0ef\"],[0.5,\"#f7f7f7\"],[0.6,\"#e6f5d0\"],[0.7,\"#b8e186\"],[0.8,\"#7fbc41\"],[0.9,\"#4d9221\"],[1,\"#276419\"]]},\"xaxis\":{\"gridcolor\":\"white\",\"linecolor\":\"white\",\"ticks\":\"\",\"title\":{\"standoff\":15},\"zerolinecolor\":\"white\",\"automargin\":true,\"zerolinewidth\":2},\"yaxis\":{\"gridcolor\":\"white\",\"linecolor\":\"white\",\"ticks\":\"\",\"title\":{\"standoff\":15},\"zerolinecolor\":\"white\",\"automargin\":true,\"zerolinewidth\":2},\"scene\":{\"xaxis\":{\"backgroundcolor\":\"#E5ECF6\",\"gridcolor\":\"white\",\"linecolor\":\"white\",\"showbackground\":true,\"ticks\":\"\",\"zerolinecolor\":\"white\",\"gridwidth\":2},\"yaxis\":{\"backgroundcolor\":\"#E5ECF6\",\"gridcolor\":\"white\",\"linecolor\":\"white\",\"showbackground\":true,\"ticks\":\"\",\"zerolinecolor\":\"white\",\"gridwidth\":2},\"zaxis\":{\"backgroundcolor\":\"#E5ECF6\",\"gridcolor\":\"white\",\"linecolor\":\"white\",\"showbackground\":true,\"ticks\":\"\",\"zerolinecolor\":\"white\",\"gridwidth\":2}},\"shapedefaults\":{\"line\":{\"color\":\"#2a3f5f\"}},\"annotationdefaults\":{\"arrowcolor\":\"#2a3f5f\",\"arrowhead\":0,\"arrowwidth\":1},\"geo\":{\"bgcolor\":\"white\",\"landcolor\":\"#E5ECF6\",\"subunitcolor\":\"white\",\"showland\":true,\"showlakes\":true,\"lakecolor\":\"white\"},\"title\":{\"x\":0.05},\"mapbox\":{\"style\":\"light\"}}},\"title\":{\"text\":\"Spot Curve (1-5 Years)\"},\"xaxis\":{\"title\":{\"text\":\"Maturity (Years)\"}},\"yaxis\":{\"title\":{\"text\":\"Spot Rate (%)\"}},\"legend\":{\"title\":{\"text\":\"Dates\"}}},                        {\"responsive\": true}                    ).then(function(){\n",
       "                            \n",
       "var gd = document.getElementById('90812bf2-d185-489c-840d-152d3381fc7b');\n",
       "var x = new MutationObserver(function (mutations, observer) {{\n",
       "        var display = window.getComputedStyle(gd).display;\n",
       "        if (!display || display === 'none') {{\n",
       "            console.log([gd, 'removed!']);\n",
       "            Plotly.purge(gd);\n",
       "            observer.disconnect();\n",
       "        }}\n",
       "}});\n",
       "\n",
       "// Listen for the removal of the full notebook cells\n",
       "var notebookContainer = gd.closest('#notebook-container');\n",
       "if (notebookContainer) {{\n",
       "    x.observe(notebookContainer, {childList: true});\n",
       "}}\n",
       "\n",
       "// Listen for the clearing of the current output cell\n",
       "var outputEl = gd.closest('.output');\n",
       "if (outputEl) {{\n",
       "    x.observe(outputEl, {childList: true});\n",
       "}}\n",
       "\n",
       "                        })                };                });            </script>        </div>"
      ]
     },
     "metadata": {},
     "output_type": "display_data"
    }
   ],
   "execution_count": 227
  },
  {
   "cell_type": "markdown",
   "metadata": {},
   "source": [
    "4c - Forward Rate"
   ]
  },
  {
   "cell_type": "code",
   "metadata": {
    "ExecuteTime": {
     "end_time": "2025-01-31T06:22:49.949018Z",
     "start_time": "2025-01-31T06:22:49.946099Z"
    }
   },
   "source": [
    "def calculate_1y_forward_curve_semiannual(spot_rates, maturities):\n",
    "    forward_curve = []  # List to store calculated forward rates\n",
    "\n",
    "    for i in range(1, len(spot_rates)):\n",
    "        t = maturities[0]\n",
    "        t_plus_n = maturities[i]\n",
    "        n = t_plus_n - t\n",
    "        S_t = spot_rates[0]\n",
    "        S_t_plus_n = spot_rates[i]\n",
    "\n",
    "        forward_rate = (\n",
    "            ( (1 + S_t_plus_n) ** (2 * t_plus_n) / (1 + S_t) ** (2 * t) ) ** (1 / (2*n)) - 1\n",
    "        )\n",
    "        forward_curve.append(forward_rate)\n",
    "\n",
    "    return forward_curve\n"
   ],
   "outputs": [],
   "execution_count": 228
  },
  {
   "metadata": {
    "ExecuteTime": {
     "end_time": "2025-01-31T06:22:49.990626Z",
     "start_time": "2025-01-31T06:22:49.972426Z"
    }
   },
   "cell_type": "code",
   "source": [
    "fig = go.Figure()\n",
    "\n",
    "for date in date_columns:\n",
    "    bonds = []\n",
    "    d = pd.to_datetime(date)\n",
    "\n",
    "    # Calculate remaining maturity for all rows\n",
    "    Remaining_Maturity = (pd.to_datetime(dirty[\"Maturity Date\"]) - d).dt.days / 365\n",
    "\n",
    "    for i in range(len(data)):\n",
    "        row = dirty.iloc[i]\n",
    "        maturity = Remaining_Maturity.iloc[i]  # Get the maturity for this bond\n",
    "        bond = (row[date], row[\"Coupon\"] * 100, maturity)  # Price, Coupon, Maturity\n",
    "        bonds.append(bond)\n",
    "\n",
    "    bonds = [\n",
    "        (float(price), float(coupon), float(maturity))\n",
    "        for price, coupon, maturity in bonds\n",
    "    ]\n",
    "\n",
    "    spot_rates = bootstrap_spot_curve(bonds)\n",
    "    maturities = [bond[2] for bond in bonds]\n",
    "    spot_rates = spot_rates[2:][::2]\n",
    "    maturities = maturities[2:][::2]\n",
    "    forward_rates = calculate_1y_forward_curve_semiannual(spot_rates, maturities)\n",
    "    maturities = maturities[1:]\n",
    "\n",
    "    fig.add_trace(\n",
    "        go.Scatter(\n",
    "            x=maturities,\n",
    "            y=[rate * 100 for rate in forward_rates],\n",
    "            mode='lines+markers',\n",
    "            name=str(date)\n",
    "        )\n",
    "    )\n",
    "\n",
    "fig.update_layout(\n",
    "    title='Forward Curve (2-5 Years)',\n",
    "    xaxis_title='Maturity (Years)',\n",
    "    yaxis_title='Forward Rate (%)',\n",
    "    legend_title=\"Dates\"\n",
    ")\n",
    "\n",
    "fig.show()\n"
   ],
   "outputs": [
    {
     "data": {
      "application/vnd.plotly.v1+json": {
       "data": [
        {
         "mode": "lines+markers",
         "name": "2025-01-06",
         "x": [
          2.147945205479452,
          3.1506849315068495,
          4.1506849315068495,
          5.1506849315068495
         ],
         "y": [
          2.8478278354708175,
          2.8864420242843636,
          2.9838616026960585,
          3.0490919405870454
         ],
         "type": "scatter"
        },
        {
         "mode": "lines+markers",
         "name": "2025-01-07",
         "x": [
          2.1452054794520548,
          3.147945205479452,
          4.147945205479452,
          5.147945205479452
         ],
         "y": [
          2.866726379527784,
          2.875230230158299,
          2.998892070407466,
          3.1060274224854023
         ],
         "type": "scatter"
        },
        {
         "mode": "lines+markers",
         "name": "2025-01-08",
         "x": [
          2.1424657534246574,
          3.1452054794520548,
          4.145205479452055,
          5.145205479452055
         ],
         "y": [
          2.864029166252413,
          2.931241341770363,
          3.0313076220760404,
          3.120346742567315
         ],
         "type": "scatter"
        },
        {
         "mode": "lines+markers",
         "name": "2025-01-09",
         "x": [
          2.1397260273972605,
          3.1424657534246574,
          4.142465753424657,
          5.142465753424657
         ],
         "y": [
          2.8390542570617017,
          2.9328407104580734,
          3.0506242860224964,
          3.123638826270758
         ],
         "type": "scatter"
        },
        {
         "mode": "lines+markers",
         "name": "2025-01-10",
         "x": [
          2.136986301369863,
          3.1397260273972605,
          4.13972602739726,
          5.13972602739726
         ],
         "y": [
          2.9890485446326,
          2.977613581901939,
          3.1323989853243583,
          3.260716415884257
         ],
         "type": "scatter"
        },
        {
         "mode": "lines+markers",
         "name": "2025-01-13",
         "x": [
          2.128767123287671,
          3.1315068493150684,
          4.131506849315069,
          5.131506849315069
         ],
         "y": [
          3.1103033949550607,
          3.109726980282579,
          3.2100852273113434,
          3.357175660555023
         ],
         "type": "scatter"
        },
        {
         "mode": "lines+markers",
         "name": "2025-01-14",
         "x": [
          2.126027397260274,
          3.128767123287671,
          4.1287671232876715,
          5.1287671232876715
         ],
         "y": [
          3.087341664868548,
          3.1766219182560507,
          3.2757775311959003,
          3.3893817757944644
         ],
         "type": "scatter"
        },
        {
         "mode": "lines+markers",
         "name": "2025-01-15",
         "x": [
          2.1232876712328768,
          3.126027397260274,
          4.126027397260274,
          5.126027397260274
         ],
         "y": [
          3.0072482428847636,
          3.108760877434147,
          3.2198073376352943,
          3.306237751172336
         ],
         "type": "scatter"
        },
        {
         "mode": "lines+markers",
         "name": "2025-01-16",
         "x": [
          2.1205479452054794,
          3.1232876712328768,
          4.123287671232877,
          5.123287671232877
         ],
         "y": [
          2.8622661734370336,
          2.9822175780519933,
          3.0539892568786087,
          3.153634986715015
         ],
         "type": "scatter"
        },
        {
         "mode": "lines+markers",
         "name": "2025-01-17",
         "x": [
          2.117808219178082,
          3.1205479452054794,
          4.120547945205479,
          5.120547945205479
         ],
         "y": [
          2.8698143165452272,
          2.9671754486067625,
          3.032753539899158,
          3.146574139639302
         ],
         "type": "scatter"
        }
       ],
       "layout": {
        "template": {
         "data": {
          "histogram2dcontour": [
           {
            "type": "histogram2dcontour",
            "colorbar": {
             "outlinewidth": 0,
             "ticks": ""
            },
            "colorscale": [
             [
              0.0,
              "#0d0887"
             ],
             [
              0.1111111111111111,
              "#46039f"
             ],
             [
              0.2222222222222222,
              "#7201a8"
             ],
             [
              0.3333333333333333,
              "#9c179e"
             ],
             [
              0.4444444444444444,
              "#bd3786"
             ],
             [
              0.5555555555555556,
              "#d8576b"
             ],
             [
              0.6666666666666666,
              "#ed7953"
             ],
             [
              0.7777777777777778,
              "#fb9f3a"
             ],
             [
              0.8888888888888888,
              "#fdca26"
             ],
             [
              1.0,
              "#f0f921"
             ]
            ]
           }
          ],
          "choropleth": [
           {
            "type": "choropleth",
            "colorbar": {
             "outlinewidth": 0,
             "ticks": ""
            }
           }
          ],
          "histogram2d": [
           {
            "type": "histogram2d",
            "colorbar": {
             "outlinewidth": 0,
             "ticks": ""
            },
            "colorscale": [
             [
              0.0,
              "#0d0887"
             ],
             [
              0.1111111111111111,
              "#46039f"
             ],
             [
              0.2222222222222222,
              "#7201a8"
             ],
             [
              0.3333333333333333,
              "#9c179e"
             ],
             [
              0.4444444444444444,
              "#bd3786"
             ],
             [
              0.5555555555555556,
              "#d8576b"
             ],
             [
              0.6666666666666666,
              "#ed7953"
             ],
             [
              0.7777777777777778,
              "#fb9f3a"
             ],
             [
              0.8888888888888888,
              "#fdca26"
             ],
             [
              1.0,
              "#f0f921"
             ]
            ]
           }
          ],
          "heatmap": [
           {
            "type": "heatmap",
            "colorbar": {
             "outlinewidth": 0,
             "ticks": ""
            },
            "colorscale": [
             [
              0.0,
              "#0d0887"
             ],
             [
              0.1111111111111111,
              "#46039f"
             ],
             [
              0.2222222222222222,
              "#7201a8"
             ],
             [
              0.3333333333333333,
              "#9c179e"
             ],
             [
              0.4444444444444444,
              "#bd3786"
             ],
             [
              0.5555555555555556,
              "#d8576b"
             ],
             [
              0.6666666666666666,
              "#ed7953"
             ],
             [
              0.7777777777777778,
              "#fb9f3a"
             ],
             [
              0.8888888888888888,
              "#fdca26"
             ],
             [
              1.0,
              "#f0f921"
             ]
            ]
           }
          ],
          "heatmapgl": [
           {
            "type": "heatmapgl",
            "colorbar": {
             "outlinewidth": 0,
             "ticks": ""
            },
            "colorscale": [
             [
              0.0,
              "#0d0887"
             ],
             [
              0.1111111111111111,
              "#46039f"
             ],
             [
              0.2222222222222222,
              "#7201a8"
             ],
             [
              0.3333333333333333,
              "#9c179e"
             ],
             [
              0.4444444444444444,
              "#bd3786"
             ],
             [
              0.5555555555555556,
              "#d8576b"
             ],
             [
              0.6666666666666666,
              "#ed7953"
             ],
             [
              0.7777777777777778,
              "#fb9f3a"
             ],
             [
              0.8888888888888888,
              "#fdca26"
             ],
             [
              1.0,
              "#f0f921"
             ]
            ]
           }
          ],
          "contourcarpet": [
           {
            "type": "contourcarpet",
            "colorbar": {
             "outlinewidth": 0,
             "ticks": ""
            }
           }
          ],
          "contour": [
           {
            "type": "contour",
            "colorbar": {
             "outlinewidth": 0,
             "ticks": ""
            },
            "colorscale": [
             [
              0.0,
              "#0d0887"
             ],
             [
              0.1111111111111111,
              "#46039f"
             ],
             [
              0.2222222222222222,
              "#7201a8"
             ],
             [
              0.3333333333333333,
              "#9c179e"
             ],
             [
              0.4444444444444444,
              "#bd3786"
             ],
             [
              0.5555555555555556,
              "#d8576b"
             ],
             [
              0.6666666666666666,
              "#ed7953"
             ],
             [
              0.7777777777777778,
              "#fb9f3a"
             ],
             [
              0.8888888888888888,
              "#fdca26"
             ],
             [
              1.0,
              "#f0f921"
             ]
            ]
           }
          ],
          "surface": [
           {
            "type": "surface",
            "colorbar": {
             "outlinewidth": 0,
             "ticks": ""
            },
            "colorscale": [
             [
              0.0,
              "#0d0887"
             ],
             [
              0.1111111111111111,
              "#46039f"
             ],
             [
              0.2222222222222222,
              "#7201a8"
             ],
             [
              0.3333333333333333,
              "#9c179e"
             ],
             [
              0.4444444444444444,
              "#bd3786"
             ],
             [
              0.5555555555555556,
              "#d8576b"
             ],
             [
              0.6666666666666666,
              "#ed7953"
             ],
             [
              0.7777777777777778,
              "#fb9f3a"
             ],
             [
              0.8888888888888888,
              "#fdca26"
             ],
             [
              1.0,
              "#f0f921"
             ]
            ]
           }
          ],
          "mesh3d": [
           {
            "type": "mesh3d",
            "colorbar": {
             "outlinewidth": 0,
             "ticks": ""
            }
           }
          ],
          "scatter": [
           {
            "fillpattern": {
             "fillmode": "overlay",
             "size": 10,
             "solidity": 0.2
            },
            "type": "scatter"
           }
          ],
          "parcoords": [
           {
            "type": "parcoords",
            "line": {
             "colorbar": {
              "outlinewidth": 0,
              "ticks": ""
             }
            }
           }
          ],
          "scatterpolargl": [
           {
            "type": "scatterpolargl",
            "marker": {
             "colorbar": {
              "outlinewidth": 0,
              "ticks": ""
             }
            }
           }
          ],
          "bar": [
           {
            "error_x": {
             "color": "#2a3f5f"
            },
            "error_y": {
             "color": "#2a3f5f"
            },
            "marker": {
             "line": {
              "color": "#E5ECF6",
              "width": 0.5
             },
             "pattern": {
              "fillmode": "overlay",
              "size": 10,
              "solidity": 0.2
             }
            },
            "type": "bar"
           }
          ],
          "scattergeo": [
           {
            "type": "scattergeo",
            "marker": {
             "colorbar": {
              "outlinewidth": 0,
              "ticks": ""
             }
            }
           }
          ],
          "scatterpolar": [
           {
            "type": "scatterpolar",
            "marker": {
             "colorbar": {
              "outlinewidth": 0,
              "ticks": ""
             }
            }
           }
          ],
          "histogram": [
           {
            "marker": {
             "pattern": {
              "fillmode": "overlay",
              "size": 10,
              "solidity": 0.2
             }
            },
            "type": "histogram"
           }
          ],
          "scattergl": [
           {
            "type": "scattergl",
            "marker": {
             "colorbar": {
              "outlinewidth": 0,
              "ticks": ""
             }
            }
           }
          ],
          "scatter3d": [
           {
            "type": "scatter3d",
            "line": {
             "colorbar": {
              "outlinewidth": 0,
              "ticks": ""
             }
            },
            "marker": {
             "colorbar": {
              "outlinewidth": 0,
              "ticks": ""
             }
            }
           }
          ],
          "scattermapbox": [
           {
            "type": "scattermapbox",
            "marker": {
             "colorbar": {
              "outlinewidth": 0,
              "ticks": ""
             }
            }
           }
          ],
          "scatterternary": [
           {
            "type": "scatterternary",
            "marker": {
             "colorbar": {
              "outlinewidth": 0,
              "ticks": ""
             }
            }
           }
          ],
          "scattercarpet": [
           {
            "type": "scattercarpet",
            "marker": {
             "colorbar": {
              "outlinewidth": 0,
              "ticks": ""
             }
            }
           }
          ],
          "carpet": [
           {
            "aaxis": {
             "endlinecolor": "#2a3f5f",
             "gridcolor": "white",
             "linecolor": "white",
             "minorgridcolor": "white",
             "startlinecolor": "#2a3f5f"
            },
            "baxis": {
             "endlinecolor": "#2a3f5f",
             "gridcolor": "white",
             "linecolor": "white",
             "minorgridcolor": "white",
             "startlinecolor": "#2a3f5f"
            },
            "type": "carpet"
           }
          ],
          "table": [
           {
            "cells": {
             "fill": {
              "color": "#EBF0F8"
             },
             "line": {
              "color": "white"
             }
            },
            "header": {
             "fill": {
              "color": "#C8D4E3"
             },
             "line": {
              "color": "white"
             }
            },
            "type": "table"
           }
          ],
          "barpolar": [
           {
            "marker": {
             "line": {
              "color": "#E5ECF6",
              "width": 0.5
             },
             "pattern": {
              "fillmode": "overlay",
              "size": 10,
              "solidity": 0.2
             }
            },
            "type": "barpolar"
           }
          ],
          "pie": [
           {
            "automargin": true,
            "type": "pie"
           }
          ]
         },
         "layout": {
          "autotypenumbers": "strict",
          "colorway": [
           "#636efa",
           "#EF553B",
           "#00cc96",
           "#ab63fa",
           "#FFA15A",
           "#19d3f3",
           "#FF6692",
           "#B6E880",
           "#FF97FF",
           "#FECB52"
          ],
          "font": {
           "color": "#2a3f5f"
          },
          "hovermode": "closest",
          "hoverlabel": {
           "align": "left"
          },
          "paper_bgcolor": "white",
          "plot_bgcolor": "#E5ECF6",
          "polar": {
           "bgcolor": "#E5ECF6",
           "angularaxis": {
            "gridcolor": "white",
            "linecolor": "white",
            "ticks": ""
           },
           "radialaxis": {
            "gridcolor": "white",
            "linecolor": "white",
            "ticks": ""
           }
          },
          "ternary": {
           "bgcolor": "#E5ECF6",
           "aaxis": {
            "gridcolor": "white",
            "linecolor": "white",
            "ticks": ""
           },
           "baxis": {
            "gridcolor": "white",
            "linecolor": "white",
            "ticks": ""
           },
           "caxis": {
            "gridcolor": "white",
            "linecolor": "white",
            "ticks": ""
           }
          },
          "coloraxis": {
           "colorbar": {
            "outlinewidth": 0,
            "ticks": ""
           }
          },
          "colorscale": {
           "sequential": [
            [
             0.0,
             "#0d0887"
            ],
            [
             0.1111111111111111,
             "#46039f"
            ],
            [
             0.2222222222222222,
             "#7201a8"
            ],
            [
             0.3333333333333333,
             "#9c179e"
            ],
            [
             0.4444444444444444,
             "#bd3786"
            ],
            [
             0.5555555555555556,
             "#d8576b"
            ],
            [
             0.6666666666666666,
             "#ed7953"
            ],
            [
             0.7777777777777778,
             "#fb9f3a"
            ],
            [
             0.8888888888888888,
             "#fdca26"
            ],
            [
             1.0,
             "#f0f921"
            ]
           ],
           "sequentialminus": [
            [
             0.0,
             "#0d0887"
            ],
            [
             0.1111111111111111,
             "#46039f"
            ],
            [
             0.2222222222222222,
             "#7201a8"
            ],
            [
             0.3333333333333333,
             "#9c179e"
            ],
            [
             0.4444444444444444,
             "#bd3786"
            ],
            [
             0.5555555555555556,
             "#d8576b"
            ],
            [
             0.6666666666666666,
             "#ed7953"
            ],
            [
             0.7777777777777778,
             "#fb9f3a"
            ],
            [
             0.8888888888888888,
             "#fdca26"
            ],
            [
             1.0,
             "#f0f921"
            ]
           ],
           "diverging": [
            [
             0,
             "#8e0152"
            ],
            [
             0.1,
             "#c51b7d"
            ],
            [
             0.2,
             "#de77ae"
            ],
            [
             0.3,
             "#f1b6da"
            ],
            [
             0.4,
             "#fde0ef"
            ],
            [
             0.5,
             "#f7f7f7"
            ],
            [
             0.6,
             "#e6f5d0"
            ],
            [
             0.7,
             "#b8e186"
            ],
            [
             0.8,
             "#7fbc41"
            ],
            [
             0.9,
             "#4d9221"
            ],
            [
             1,
             "#276419"
            ]
           ]
          },
          "xaxis": {
           "gridcolor": "white",
           "linecolor": "white",
           "ticks": "",
           "title": {
            "standoff": 15
           },
           "zerolinecolor": "white",
           "automargin": true,
           "zerolinewidth": 2
          },
          "yaxis": {
           "gridcolor": "white",
           "linecolor": "white",
           "ticks": "",
           "title": {
            "standoff": 15
           },
           "zerolinecolor": "white",
           "automargin": true,
           "zerolinewidth": 2
          },
          "scene": {
           "xaxis": {
            "backgroundcolor": "#E5ECF6",
            "gridcolor": "white",
            "linecolor": "white",
            "showbackground": true,
            "ticks": "",
            "zerolinecolor": "white",
            "gridwidth": 2
           },
           "yaxis": {
            "backgroundcolor": "#E5ECF6",
            "gridcolor": "white",
            "linecolor": "white",
            "showbackground": true,
            "ticks": "",
            "zerolinecolor": "white",
            "gridwidth": 2
           },
           "zaxis": {
            "backgroundcolor": "#E5ECF6",
            "gridcolor": "white",
            "linecolor": "white",
            "showbackground": true,
            "ticks": "",
            "zerolinecolor": "white",
            "gridwidth": 2
           }
          },
          "shapedefaults": {
           "line": {
            "color": "#2a3f5f"
           }
          },
          "annotationdefaults": {
           "arrowcolor": "#2a3f5f",
           "arrowhead": 0,
           "arrowwidth": 1
          },
          "geo": {
           "bgcolor": "white",
           "landcolor": "#E5ECF6",
           "subunitcolor": "white",
           "showland": true,
           "showlakes": true,
           "lakecolor": "white"
          },
          "title": {
           "x": 0.05
          },
          "mapbox": {
           "style": "light"
          }
         }
        },
        "title": {
         "text": "Forward Curve (2-5 Years)"
        },
        "xaxis": {
         "title": {
          "text": "Maturity (Years)"
         }
        },
        "yaxis": {
         "title": {
          "text": "Forward Rate (%)"
         }
        },
        "legend": {
         "title": {
          "text": "Dates"
         }
        }
       },
       "config": {
        "plotlyServerURL": "https://plot.ly"
       }
      },
      "text/html": [
       "<div>                            <div id=\"22bee0e6-31de-45ab-9ac5-9c7b77152bfb\" class=\"plotly-graph-div\" style=\"height:525px; width:100%;\"></div>            <script type=\"text/javascript\">                require([\"plotly\"], function(Plotly) {                    window.PLOTLYENV=window.PLOTLYENV || {};                                    if (document.getElementById(\"22bee0e6-31de-45ab-9ac5-9c7b77152bfb\")) {                    Plotly.newPlot(                        \"22bee0e6-31de-45ab-9ac5-9c7b77152bfb\",                        [{\"mode\":\"lines+markers\",\"name\":\"2025-01-06\",\"x\":[2.147945205479452,3.1506849315068495,4.1506849315068495,5.1506849315068495],\"y\":[2.8478278354708175,2.8864420242843636,2.9838616026960585,3.0490919405870454],\"type\":\"scatter\"},{\"mode\":\"lines+markers\",\"name\":\"2025-01-07\",\"x\":[2.1452054794520548,3.147945205479452,4.147945205479452,5.147945205479452],\"y\":[2.866726379527784,2.875230230158299,2.998892070407466,3.1060274224854023],\"type\":\"scatter\"},{\"mode\":\"lines+markers\",\"name\":\"2025-01-08\",\"x\":[2.1424657534246574,3.1452054794520548,4.145205479452055,5.145205479452055],\"y\":[2.864029166252413,2.931241341770363,3.0313076220760404,3.120346742567315],\"type\":\"scatter\"},{\"mode\":\"lines+markers\",\"name\":\"2025-01-09\",\"x\":[2.1397260273972605,3.1424657534246574,4.142465753424657,5.142465753424657],\"y\":[2.8390542570617017,2.9328407104580734,3.0506242860224964,3.123638826270758],\"type\":\"scatter\"},{\"mode\":\"lines+markers\",\"name\":\"2025-01-10\",\"x\":[2.136986301369863,3.1397260273972605,4.13972602739726,5.13972602739726],\"y\":[2.9890485446326,2.977613581901939,3.1323989853243583,3.260716415884257],\"type\":\"scatter\"},{\"mode\":\"lines+markers\",\"name\":\"2025-01-13\",\"x\":[2.128767123287671,3.1315068493150684,4.131506849315069,5.131506849315069],\"y\":[3.1103033949550607,3.109726980282579,3.2100852273113434,3.357175660555023],\"type\":\"scatter\"},{\"mode\":\"lines+markers\",\"name\":\"2025-01-14\",\"x\":[2.126027397260274,3.128767123287671,4.1287671232876715,5.1287671232876715],\"y\":[3.087341664868548,3.1766219182560507,3.2757775311959003,3.3893817757944644],\"type\":\"scatter\"},{\"mode\":\"lines+markers\",\"name\":\"2025-01-15\",\"x\":[2.1232876712328768,3.126027397260274,4.126027397260274,5.126027397260274],\"y\":[3.0072482428847636,3.108760877434147,3.2198073376352943,3.306237751172336],\"type\":\"scatter\"},{\"mode\":\"lines+markers\",\"name\":\"2025-01-16\",\"x\":[2.1205479452054794,3.1232876712328768,4.123287671232877,5.123287671232877],\"y\":[2.8622661734370336,2.9822175780519933,3.0539892568786087,3.153634986715015],\"type\":\"scatter\"},{\"mode\":\"lines+markers\",\"name\":\"2025-01-17\",\"x\":[2.117808219178082,3.1205479452054794,4.120547945205479,5.120547945205479],\"y\":[2.8698143165452272,2.9671754486067625,3.032753539899158,3.146574139639302],\"type\":\"scatter\"}],                        {\"template\":{\"data\":{\"histogram2dcontour\":[{\"type\":\"histogram2dcontour\",\"colorbar\":{\"outlinewidth\":0,\"ticks\":\"\"},\"colorscale\":[[0.0,\"#0d0887\"],[0.1111111111111111,\"#46039f\"],[0.2222222222222222,\"#7201a8\"],[0.3333333333333333,\"#9c179e\"],[0.4444444444444444,\"#bd3786\"],[0.5555555555555556,\"#d8576b\"],[0.6666666666666666,\"#ed7953\"],[0.7777777777777778,\"#fb9f3a\"],[0.8888888888888888,\"#fdca26\"],[1.0,\"#f0f921\"]]}],\"choropleth\":[{\"type\":\"choropleth\",\"colorbar\":{\"outlinewidth\":0,\"ticks\":\"\"}}],\"histogram2d\":[{\"type\":\"histogram2d\",\"colorbar\":{\"outlinewidth\":0,\"ticks\":\"\"},\"colorscale\":[[0.0,\"#0d0887\"],[0.1111111111111111,\"#46039f\"],[0.2222222222222222,\"#7201a8\"],[0.3333333333333333,\"#9c179e\"],[0.4444444444444444,\"#bd3786\"],[0.5555555555555556,\"#d8576b\"],[0.6666666666666666,\"#ed7953\"],[0.7777777777777778,\"#fb9f3a\"],[0.8888888888888888,\"#fdca26\"],[1.0,\"#f0f921\"]]}],\"heatmap\":[{\"type\":\"heatmap\",\"colorbar\":{\"outlinewidth\":0,\"ticks\":\"\"},\"colorscale\":[[0.0,\"#0d0887\"],[0.1111111111111111,\"#46039f\"],[0.2222222222222222,\"#7201a8\"],[0.3333333333333333,\"#9c179e\"],[0.4444444444444444,\"#bd3786\"],[0.5555555555555556,\"#d8576b\"],[0.6666666666666666,\"#ed7953\"],[0.7777777777777778,\"#fb9f3a\"],[0.8888888888888888,\"#fdca26\"],[1.0,\"#f0f921\"]]}],\"heatmapgl\":[{\"type\":\"heatmapgl\",\"colorbar\":{\"outlinewidth\":0,\"ticks\":\"\"},\"colorscale\":[[0.0,\"#0d0887\"],[0.1111111111111111,\"#46039f\"],[0.2222222222222222,\"#7201a8\"],[0.3333333333333333,\"#9c179e\"],[0.4444444444444444,\"#bd3786\"],[0.5555555555555556,\"#d8576b\"],[0.6666666666666666,\"#ed7953\"],[0.7777777777777778,\"#fb9f3a\"],[0.8888888888888888,\"#fdca26\"],[1.0,\"#f0f921\"]]}],\"contourcarpet\":[{\"type\":\"contourcarpet\",\"colorbar\":{\"outlinewidth\":0,\"ticks\":\"\"}}],\"contour\":[{\"type\":\"contour\",\"colorbar\":{\"outlinewidth\":0,\"ticks\":\"\"},\"colorscale\":[[0.0,\"#0d0887\"],[0.1111111111111111,\"#46039f\"],[0.2222222222222222,\"#7201a8\"],[0.3333333333333333,\"#9c179e\"],[0.4444444444444444,\"#bd3786\"],[0.5555555555555556,\"#d8576b\"],[0.6666666666666666,\"#ed7953\"],[0.7777777777777778,\"#fb9f3a\"],[0.8888888888888888,\"#fdca26\"],[1.0,\"#f0f921\"]]}],\"surface\":[{\"type\":\"surface\",\"colorbar\":{\"outlinewidth\":0,\"ticks\":\"\"},\"colorscale\":[[0.0,\"#0d0887\"],[0.1111111111111111,\"#46039f\"],[0.2222222222222222,\"#7201a8\"],[0.3333333333333333,\"#9c179e\"],[0.4444444444444444,\"#bd3786\"],[0.5555555555555556,\"#d8576b\"],[0.6666666666666666,\"#ed7953\"],[0.7777777777777778,\"#fb9f3a\"],[0.8888888888888888,\"#fdca26\"],[1.0,\"#f0f921\"]]}],\"mesh3d\":[{\"type\":\"mesh3d\",\"colorbar\":{\"outlinewidth\":0,\"ticks\":\"\"}}],\"scatter\":[{\"fillpattern\":{\"fillmode\":\"overlay\",\"size\":10,\"solidity\":0.2},\"type\":\"scatter\"}],\"parcoords\":[{\"type\":\"parcoords\",\"line\":{\"colorbar\":{\"outlinewidth\":0,\"ticks\":\"\"}}}],\"scatterpolargl\":[{\"type\":\"scatterpolargl\",\"marker\":{\"colorbar\":{\"outlinewidth\":0,\"ticks\":\"\"}}}],\"bar\":[{\"error_x\":{\"color\":\"#2a3f5f\"},\"error_y\":{\"color\":\"#2a3f5f\"},\"marker\":{\"line\":{\"color\":\"#E5ECF6\",\"width\":0.5},\"pattern\":{\"fillmode\":\"overlay\",\"size\":10,\"solidity\":0.2}},\"type\":\"bar\"}],\"scattergeo\":[{\"type\":\"scattergeo\",\"marker\":{\"colorbar\":{\"outlinewidth\":0,\"ticks\":\"\"}}}],\"scatterpolar\":[{\"type\":\"scatterpolar\",\"marker\":{\"colorbar\":{\"outlinewidth\":0,\"ticks\":\"\"}}}],\"histogram\":[{\"marker\":{\"pattern\":{\"fillmode\":\"overlay\",\"size\":10,\"solidity\":0.2}},\"type\":\"histogram\"}],\"scattergl\":[{\"type\":\"scattergl\",\"marker\":{\"colorbar\":{\"outlinewidth\":0,\"ticks\":\"\"}}}],\"scatter3d\":[{\"type\":\"scatter3d\",\"line\":{\"colorbar\":{\"outlinewidth\":0,\"ticks\":\"\"}},\"marker\":{\"colorbar\":{\"outlinewidth\":0,\"ticks\":\"\"}}}],\"scattermapbox\":[{\"type\":\"scattermapbox\",\"marker\":{\"colorbar\":{\"outlinewidth\":0,\"ticks\":\"\"}}}],\"scatterternary\":[{\"type\":\"scatterternary\",\"marker\":{\"colorbar\":{\"outlinewidth\":0,\"ticks\":\"\"}}}],\"scattercarpet\":[{\"type\":\"scattercarpet\",\"marker\":{\"colorbar\":{\"outlinewidth\":0,\"ticks\":\"\"}}}],\"carpet\":[{\"aaxis\":{\"endlinecolor\":\"#2a3f5f\",\"gridcolor\":\"white\",\"linecolor\":\"white\",\"minorgridcolor\":\"white\",\"startlinecolor\":\"#2a3f5f\"},\"baxis\":{\"endlinecolor\":\"#2a3f5f\",\"gridcolor\":\"white\",\"linecolor\":\"white\",\"minorgridcolor\":\"white\",\"startlinecolor\":\"#2a3f5f\"},\"type\":\"carpet\"}],\"table\":[{\"cells\":{\"fill\":{\"color\":\"#EBF0F8\"},\"line\":{\"color\":\"white\"}},\"header\":{\"fill\":{\"color\":\"#C8D4E3\"},\"line\":{\"color\":\"white\"}},\"type\":\"table\"}],\"barpolar\":[{\"marker\":{\"line\":{\"color\":\"#E5ECF6\",\"width\":0.5},\"pattern\":{\"fillmode\":\"overlay\",\"size\":10,\"solidity\":0.2}},\"type\":\"barpolar\"}],\"pie\":[{\"automargin\":true,\"type\":\"pie\"}]},\"layout\":{\"autotypenumbers\":\"strict\",\"colorway\":[\"#636efa\",\"#EF553B\",\"#00cc96\",\"#ab63fa\",\"#FFA15A\",\"#19d3f3\",\"#FF6692\",\"#B6E880\",\"#FF97FF\",\"#FECB52\"],\"font\":{\"color\":\"#2a3f5f\"},\"hovermode\":\"closest\",\"hoverlabel\":{\"align\":\"left\"},\"paper_bgcolor\":\"white\",\"plot_bgcolor\":\"#E5ECF6\",\"polar\":{\"bgcolor\":\"#E5ECF6\",\"angularaxis\":{\"gridcolor\":\"white\",\"linecolor\":\"white\",\"ticks\":\"\"},\"radialaxis\":{\"gridcolor\":\"white\",\"linecolor\":\"white\",\"ticks\":\"\"}},\"ternary\":{\"bgcolor\":\"#E5ECF6\",\"aaxis\":{\"gridcolor\":\"white\",\"linecolor\":\"white\",\"ticks\":\"\"},\"baxis\":{\"gridcolor\":\"white\",\"linecolor\":\"white\",\"ticks\":\"\"},\"caxis\":{\"gridcolor\":\"white\",\"linecolor\":\"white\",\"ticks\":\"\"}},\"coloraxis\":{\"colorbar\":{\"outlinewidth\":0,\"ticks\":\"\"}},\"colorscale\":{\"sequential\":[[0.0,\"#0d0887\"],[0.1111111111111111,\"#46039f\"],[0.2222222222222222,\"#7201a8\"],[0.3333333333333333,\"#9c179e\"],[0.4444444444444444,\"#bd3786\"],[0.5555555555555556,\"#d8576b\"],[0.6666666666666666,\"#ed7953\"],[0.7777777777777778,\"#fb9f3a\"],[0.8888888888888888,\"#fdca26\"],[1.0,\"#f0f921\"]],\"sequentialminus\":[[0.0,\"#0d0887\"],[0.1111111111111111,\"#46039f\"],[0.2222222222222222,\"#7201a8\"],[0.3333333333333333,\"#9c179e\"],[0.4444444444444444,\"#bd3786\"],[0.5555555555555556,\"#d8576b\"],[0.6666666666666666,\"#ed7953\"],[0.7777777777777778,\"#fb9f3a\"],[0.8888888888888888,\"#fdca26\"],[1.0,\"#f0f921\"]],\"diverging\":[[0,\"#8e0152\"],[0.1,\"#c51b7d\"],[0.2,\"#de77ae\"],[0.3,\"#f1b6da\"],[0.4,\"#fde0ef\"],[0.5,\"#f7f7f7\"],[0.6,\"#e6f5d0\"],[0.7,\"#b8e186\"],[0.8,\"#7fbc41\"],[0.9,\"#4d9221\"],[1,\"#276419\"]]},\"xaxis\":{\"gridcolor\":\"white\",\"linecolor\":\"white\",\"ticks\":\"\",\"title\":{\"standoff\":15},\"zerolinecolor\":\"white\",\"automargin\":true,\"zerolinewidth\":2},\"yaxis\":{\"gridcolor\":\"white\",\"linecolor\":\"white\",\"ticks\":\"\",\"title\":{\"standoff\":15},\"zerolinecolor\":\"white\",\"automargin\":true,\"zerolinewidth\":2},\"scene\":{\"xaxis\":{\"backgroundcolor\":\"#E5ECF6\",\"gridcolor\":\"white\",\"linecolor\":\"white\",\"showbackground\":true,\"ticks\":\"\",\"zerolinecolor\":\"white\",\"gridwidth\":2},\"yaxis\":{\"backgroundcolor\":\"#E5ECF6\",\"gridcolor\":\"white\",\"linecolor\":\"white\",\"showbackground\":true,\"ticks\":\"\",\"zerolinecolor\":\"white\",\"gridwidth\":2},\"zaxis\":{\"backgroundcolor\":\"#E5ECF6\",\"gridcolor\":\"white\",\"linecolor\":\"white\",\"showbackground\":true,\"ticks\":\"\",\"zerolinecolor\":\"white\",\"gridwidth\":2}},\"shapedefaults\":{\"line\":{\"color\":\"#2a3f5f\"}},\"annotationdefaults\":{\"arrowcolor\":\"#2a3f5f\",\"arrowhead\":0,\"arrowwidth\":1},\"geo\":{\"bgcolor\":\"white\",\"landcolor\":\"#E5ECF6\",\"subunitcolor\":\"white\",\"showland\":true,\"showlakes\":true,\"lakecolor\":\"white\"},\"title\":{\"x\":0.05},\"mapbox\":{\"style\":\"light\"}}},\"title\":{\"text\":\"Forward Curve (2-5 Years)\"},\"xaxis\":{\"title\":{\"text\":\"Maturity (Years)\"}},\"yaxis\":{\"title\":{\"text\":\"Forward Rate (%)\"}},\"legend\":{\"title\":{\"text\":\"Dates\"}}},                        {\"responsive\": true}                    ).then(function(){\n",
       "                            \n",
       "var gd = document.getElementById('22bee0e6-31de-45ab-9ac5-9c7b77152bfb');\n",
       "var x = new MutationObserver(function (mutations, observer) {{\n",
       "        var display = window.getComputedStyle(gd).display;\n",
       "        if (!display || display === 'none') {{\n",
       "            console.log([gd, 'removed!']);\n",
       "            Plotly.purge(gd);\n",
       "            observer.disconnect();\n",
       "        }}\n",
       "}});\n",
       "\n",
       "// Listen for the removal of the full notebook cells\n",
       "var notebookContainer = gd.closest('#notebook-container');\n",
       "if (notebookContainer) {{\n",
       "    x.observe(notebookContainer, {childList: true});\n",
       "}}\n",
       "\n",
       "// Listen for the clearing of the current output cell\n",
       "var outputEl = gd.closest('.output');\n",
       "if (outputEl) {{\n",
       "    x.observe(outputEl, {childList: true});\n",
       "}}\n",
       "\n",
       "                        })                };                });            </script>        </div>"
      ]
     },
     "metadata": {},
     "output_type": "display_data"
    }
   ],
   "execution_count": 229
  },
  {
   "metadata": {},
   "cell_type": "markdown",
   "source": "5 - Covariance Matrix"
  },
  {
   "metadata": {
    "ExecuteTime": {
     "end_time": "2025-01-31T06:22:50.038179Z",
     "start_time": "2025-01-31T06:22:50.013573Z"
    }
   },
   "cell_type": "code",
   "source": [
    "ytm_matrix = pd.DataFrame()\n",
    "forward_matrix = pd.DataFrame()\n",
    "for date in date_columns:\n",
    "    bonds = []\n",
    "    d = pd.to_datetime(date)\n",
    "\n",
    "    # Calculate remaining maturity for all rows\n",
    "    Remaining_Maturity = (pd.to_datetime(dirty[\"Maturity Date\"]) - d).dt.days / 365\n",
    "\n",
    "    for i in range(len(data)):\n",
    "        row = dirty.iloc[i]\n",
    "        maturity = Remaining_Maturity.iloc[i]  # Get the maturity for this bond\n",
    "        bond = (row[date], row[\"Coupon\"] * 100, maturity)  # Price, Coupon, Maturity\n",
    "        bonds.append(bond)\n",
    "\n",
    "    # Convert bond data into float format\n",
    "    bonds = [(float(price), float(coupon), float(maturity)) for price, coupon, maturity in bonds]\n",
    "\n",
    "    # Bootstrap spot rates\n",
    "    yield_rates = calculate_ytm(bonds)\n",
    "    ytm_matrix[date] = yield_rates\n",
    "\n",
    "    spot_rates = bootstrap_spot_curve(bonds)\n",
    "    maturities = [bond[2] for bond in bonds]\n",
    "    spot_rates = spot_rates[2:][::2]\n",
    "    maturities = maturities[2:][::2]\n",
    "    forward_rates = calculate_1y_forward_curve_semiannual(spot_rates, maturities)\n",
    "    forward_matrix[date] = forward_rates"
   ],
   "outputs": [],
   "execution_count": 230
  },
  {
   "metadata": {
    "ExecuteTime": {
     "end_time": "2025-01-31T06:22:50.057030Z",
     "start_time": "2025-01-31T06:22:50.052269Z"
    }
   },
   "cell_type": "code",
   "source": "ytm_matrix",
   "outputs": [
    {
     "data": {
      "text/plain": [
       "    2025-01-06  2025-01-07  2025-01-08  2025-01-09  2025-01-10  2025-01-13  \\\n",
       "0      0.00919     0.00912     0.00885     0.00898     0.00871     0.00871   \n",
       "1      0.01947     0.01935     0.01944     0.01922     0.01972     0.01978   \n",
       "2      0.02243     0.02249     0.02255     0.02234     0.02303     0.02295   \n",
       "3      0.02360     0.02369     0.02363     0.02345     0.02433     0.02476   \n",
       "4      0.02472     0.02483     0.02486     0.02464     0.02564     0.02606   \n",
       "5      0.02546     0.02567     0.02572     0.02555     0.02660     0.02701   \n",
       "6      0.02587     0.02584     0.02616     0.02608     0.02664     0.02733   \n",
       "7      0.02658     0.02646     0.02683     0.02693     0.02730     0.02802   \n",
       "8      0.02703     0.02714     0.02737     0.02741     0.02817     0.02865   \n",
       "9      0.02759     0.02774     0.02793     0.02804     0.02885     0.02945   \n",
       "10     0.02796     0.02836     0.02848     0.02845     0.02959     0.03024   \n",
       "\n",
       "    2025-01-14  2025-01-15  2025-01-16  2025-01-17  \n",
       "0      0.00864     0.00777     0.00750     0.00703  \n",
       "1      0.01977     0.01934     0.01861     0.01829  \n",
       "2      0.02371     0.02301     0.02224     0.02189  \n",
       "3      0.02506     0.02431     0.02335     0.02313  \n",
       "4      0.02643     0.02569     0.02466     0.02448  \n",
       "5      0.02737     0.02672     0.02565     0.02552  \n",
       "6      0.02801     0.02733     0.02629     0.02606  \n",
       "7      0.02879     0.02816     0.02682     0.02654  \n",
       "8      0.02933     0.02872     0.02740     0.02714  \n",
       "9      0.03002     0.02943     0.02817     0.02790  \n",
       "10     0.03069     0.02991     0.02862     0.02847  "
      ],
      "text/html": [
       "<div>\n",
       "<style scoped>\n",
       "    .dataframe tbody tr th:only-of-type {\n",
       "        vertical-align: middle;\n",
       "    }\n",
       "\n",
       "    .dataframe tbody tr th {\n",
       "        vertical-align: top;\n",
       "    }\n",
       "\n",
       "    .dataframe thead th {\n",
       "        text-align: right;\n",
       "    }\n",
       "</style>\n",
       "<table border=\"1\" class=\"dataframe\">\n",
       "  <thead>\n",
       "    <tr style=\"text-align: right;\">\n",
       "      <th></th>\n",
       "      <th>2025-01-06</th>\n",
       "      <th>2025-01-07</th>\n",
       "      <th>2025-01-08</th>\n",
       "      <th>2025-01-09</th>\n",
       "      <th>2025-01-10</th>\n",
       "      <th>2025-01-13</th>\n",
       "      <th>2025-01-14</th>\n",
       "      <th>2025-01-15</th>\n",
       "      <th>2025-01-16</th>\n",
       "      <th>2025-01-17</th>\n",
       "    </tr>\n",
       "  </thead>\n",
       "  <tbody>\n",
       "    <tr>\n",
       "      <th>0</th>\n",
       "      <td>0.00919</td>\n",
       "      <td>0.00912</td>\n",
       "      <td>0.00885</td>\n",
       "      <td>0.00898</td>\n",
       "      <td>0.00871</td>\n",
       "      <td>0.00871</td>\n",
       "      <td>0.00864</td>\n",
       "      <td>0.00777</td>\n",
       "      <td>0.00750</td>\n",
       "      <td>0.00703</td>\n",
       "    </tr>\n",
       "    <tr>\n",
       "      <th>1</th>\n",
       "      <td>0.01947</td>\n",
       "      <td>0.01935</td>\n",
       "      <td>0.01944</td>\n",
       "      <td>0.01922</td>\n",
       "      <td>0.01972</td>\n",
       "      <td>0.01978</td>\n",
       "      <td>0.01977</td>\n",
       "      <td>0.01934</td>\n",
       "      <td>0.01861</td>\n",
       "      <td>0.01829</td>\n",
       "    </tr>\n",
       "    <tr>\n",
       "      <th>2</th>\n",
       "      <td>0.02243</td>\n",
       "      <td>0.02249</td>\n",
       "      <td>0.02255</td>\n",
       "      <td>0.02234</td>\n",
       "      <td>0.02303</td>\n",
       "      <td>0.02295</td>\n",
       "      <td>0.02371</td>\n",
       "      <td>0.02301</td>\n",
       "      <td>0.02224</td>\n",
       "      <td>0.02189</td>\n",
       "    </tr>\n",
       "    <tr>\n",
       "      <th>3</th>\n",
       "      <td>0.02360</td>\n",
       "      <td>0.02369</td>\n",
       "      <td>0.02363</td>\n",
       "      <td>0.02345</td>\n",
       "      <td>0.02433</td>\n",
       "      <td>0.02476</td>\n",
       "      <td>0.02506</td>\n",
       "      <td>0.02431</td>\n",
       "      <td>0.02335</td>\n",
       "      <td>0.02313</td>\n",
       "    </tr>\n",
       "    <tr>\n",
       "      <th>4</th>\n",
       "      <td>0.02472</td>\n",
       "      <td>0.02483</td>\n",
       "      <td>0.02486</td>\n",
       "      <td>0.02464</td>\n",
       "      <td>0.02564</td>\n",
       "      <td>0.02606</td>\n",
       "      <td>0.02643</td>\n",
       "      <td>0.02569</td>\n",
       "      <td>0.02466</td>\n",
       "      <td>0.02448</td>\n",
       "    </tr>\n",
       "    <tr>\n",
       "      <th>5</th>\n",
       "      <td>0.02546</td>\n",
       "      <td>0.02567</td>\n",
       "      <td>0.02572</td>\n",
       "      <td>0.02555</td>\n",
       "      <td>0.02660</td>\n",
       "      <td>0.02701</td>\n",
       "      <td>0.02737</td>\n",
       "      <td>0.02672</td>\n",
       "      <td>0.02565</td>\n",
       "      <td>0.02552</td>\n",
       "    </tr>\n",
       "    <tr>\n",
       "      <th>6</th>\n",
       "      <td>0.02587</td>\n",
       "      <td>0.02584</td>\n",
       "      <td>0.02616</td>\n",
       "      <td>0.02608</td>\n",
       "      <td>0.02664</td>\n",
       "      <td>0.02733</td>\n",
       "      <td>0.02801</td>\n",
       "      <td>0.02733</td>\n",
       "      <td>0.02629</td>\n",
       "      <td>0.02606</td>\n",
       "    </tr>\n",
       "    <tr>\n",
       "      <th>7</th>\n",
       "      <td>0.02658</td>\n",
       "      <td>0.02646</td>\n",
       "      <td>0.02683</td>\n",
       "      <td>0.02693</td>\n",
       "      <td>0.02730</td>\n",
       "      <td>0.02802</td>\n",
       "      <td>0.02879</td>\n",
       "      <td>0.02816</td>\n",
       "      <td>0.02682</td>\n",
       "      <td>0.02654</td>\n",
       "    </tr>\n",
       "    <tr>\n",
       "      <th>8</th>\n",
       "      <td>0.02703</td>\n",
       "      <td>0.02714</td>\n",
       "      <td>0.02737</td>\n",
       "      <td>0.02741</td>\n",
       "      <td>0.02817</td>\n",
       "      <td>0.02865</td>\n",
       "      <td>0.02933</td>\n",
       "      <td>0.02872</td>\n",
       "      <td>0.02740</td>\n",
       "      <td>0.02714</td>\n",
       "    </tr>\n",
       "    <tr>\n",
       "      <th>9</th>\n",
       "      <td>0.02759</td>\n",
       "      <td>0.02774</td>\n",
       "      <td>0.02793</td>\n",
       "      <td>0.02804</td>\n",
       "      <td>0.02885</td>\n",
       "      <td>0.02945</td>\n",
       "      <td>0.03002</td>\n",
       "      <td>0.02943</td>\n",
       "      <td>0.02817</td>\n",
       "      <td>0.02790</td>\n",
       "    </tr>\n",
       "    <tr>\n",
       "      <th>10</th>\n",
       "      <td>0.02796</td>\n",
       "      <td>0.02836</td>\n",
       "      <td>0.02848</td>\n",
       "      <td>0.02845</td>\n",
       "      <td>0.02959</td>\n",
       "      <td>0.03024</td>\n",
       "      <td>0.03069</td>\n",
       "      <td>0.02991</td>\n",
       "      <td>0.02862</td>\n",
       "      <td>0.02847</td>\n",
       "    </tr>\n",
       "  </tbody>\n",
       "</table>\n",
       "</div>"
      ]
     },
     "execution_count": 231,
     "metadata": {},
     "output_type": "execute_result"
    }
   ],
   "execution_count": 231
  },
  {
   "metadata": {
    "ExecuteTime": {
     "end_time": "2025-01-31T06:22:50.091330Z",
     "start_time": "2025-01-31T06:22:50.086487Z"
    }
   },
   "cell_type": "code",
   "source": "forward_matrix",
   "outputs": [
    {
     "data": {
      "text/plain": [
       "   2025-01-06  2025-01-07  2025-01-08  2025-01-09  2025-01-10  2025-01-13  \\\n",
       "0     0.02848     0.02867     0.02864     0.02839     0.02989     0.03110   \n",
       "1     0.02886     0.02875     0.02931     0.02933     0.02978     0.03110   \n",
       "2     0.02984     0.02999     0.03031     0.03051     0.03132     0.03210   \n",
       "3     0.03049     0.03106     0.03120     0.03124     0.03261     0.03357   \n",
       "\n",
       "   2025-01-14  2025-01-15  2025-01-16  2025-01-17  \n",
       "0     0.03087     0.03007     0.02862     0.02870  \n",
       "1     0.03177     0.03109     0.02982     0.02967  \n",
       "2     0.03276     0.03220     0.03054     0.03033  \n",
       "3     0.03389     0.03306     0.03154     0.03147  "
      ],
      "text/html": [
       "<div>\n",
       "<style scoped>\n",
       "    .dataframe tbody tr th:only-of-type {\n",
       "        vertical-align: middle;\n",
       "    }\n",
       "\n",
       "    .dataframe tbody tr th {\n",
       "        vertical-align: top;\n",
       "    }\n",
       "\n",
       "    .dataframe thead th {\n",
       "        text-align: right;\n",
       "    }\n",
       "</style>\n",
       "<table border=\"1\" class=\"dataframe\">\n",
       "  <thead>\n",
       "    <tr style=\"text-align: right;\">\n",
       "      <th></th>\n",
       "      <th>2025-01-06</th>\n",
       "      <th>2025-01-07</th>\n",
       "      <th>2025-01-08</th>\n",
       "      <th>2025-01-09</th>\n",
       "      <th>2025-01-10</th>\n",
       "      <th>2025-01-13</th>\n",
       "      <th>2025-01-14</th>\n",
       "      <th>2025-01-15</th>\n",
       "      <th>2025-01-16</th>\n",
       "      <th>2025-01-17</th>\n",
       "    </tr>\n",
       "  </thead>\n",
       "  <tbody>\n",
       "    <tr>\n",
       "      <th>0</th>\n",
       "      <td>0.02848</td>\n",
       "      <td>0.02867</td>\n",
       "      <td>0.02864</td>\n",
       "      <td>0.02839</td>\n",
       "      <td>0.02989</td>\n",
       "      <td>0.03110</td>\n",
       "      <td>0.03087</td>\n",
       "      <td>0.03007</td>\n",
       "      <td>0.02862</td>\n",
       "      <td>0.02870</td>\n",
       "    </tr>\n",
       "    <tr>\n",
       "      <th>1</th>\n",
       "      <td>0.02886</td>\n",
       "      <td>0.02875</td>\n",
       "      <td>0.02931</td>\n",
       "      <td>0.02933</td>\n",
       "      <td>0.02978</td>\n",
       "      <td>0.03110</td>\n",
       "      <td>0.03177</td>\n",
       "      <td>0.03109</td>\n",
       "      <td>0.02982</td>\n",
       "      <td>0.02967</td>\n",
       "    </tr>\n",
       "    <tr>\n",
       "      <th>2</th>\n",
       "      <td>0.02984</td>\n",
       "      <td>0.02999</td>\n",
       "      <td>0.03031</td>\n",
       "      <td>0.03051</td>\n",
       "      <td>0.03132</td>\n",
       "      <td>0.03210</td>\n",
       "      <td>0.03276</td>\n",
       "      <td>0.03220</td>\n",
       "      <td>0.03054</td>\n",
       "      <td>0.03033</td>\n",
       "    </tr>\n",
       "    <tr>\n",
       "      <th>3</th>\n",
       "      <td>0.03049</td>\n",
       "      <td>0.03106</td>\n",
       "      <td>0.03120</td>\n",
       "      <td>0.03124</td>\n",
       "      <td>0.03261</td>\n",
       "      <td>0.03357</td>\n",
       "      <td>0.03389</td>\n",
       "      <td>0.03306</td>\n",
       "      <td>0.03154</td>\n",
       "      <td>0.03147</td>\n",
       "    </tr>\n",
       "  </tbody>\n",
       "</table>\n",
       "</div>"
      ]
     },
     "execution_count": 232,
     "metadata": {},
     "output_type": "execute_result"
    }
   ],
   "execution_count": 232
  },
  {
   "metadata": {},
   "cell_type": "markdown",
   "source": "Covariance Matrix of the Daily log-returns of Yield:"
  },
  {
   "metadata": {
    "ExecuteTime": {
     "end_time": "2025-01-31T06:22:50.149742Z",
     "start_time": "2025-01-31T06:22:50.146187Z"
    }
   },
   "cell_type": "code",
   "source": [
    "ytm_matrix = ytm_matrix.iloc[2:].reset_index(drop=True)\n",
    "ytm_rows = ytm_matrix.iloc[::2].values\n",
    "ytm_log_returns = np.log(ytm_rows.T[1:]/ytm_rows.T[:-1]).T\n",
    "ytm_cov = np.cov(ytm_log_returns)\n",
    "ytm_cov"
   ],
   "outputs": [
    {
     "data": {
      "text/plain": [
       "array([[0.00054531, 0.00050576, 0.00045659, 0.00049263, 0.00050787],\n",
       "       [0.00050576, 0.00058385, 0.00050105, 0.00053704, 0.00059917],\n",
       "       [0.00045659, 0.00050105, 0.00050839, 0.00051281, 0.00052153],\n",
       "       [0.00049263, 0.00053704, 0.00051281, 0.00055038, 0.00056633],\n",
       "       [0.00050787, 0.00059917, 0.00052153, 0.00056633, 0.00063106]])"
      ]
     },
     "execution_count": 233,
     "metadata": {},
     "output_type": "execute_result"
    }
   ],
   "execution_count": 233
  },
  {
   "metadata": {},
   "cell_type": "markdown",
   "source": "Covariance Matrix of the Daily log-returns of Forward Rates:"
  },
  {
   "metadata": {
    "ExecuteTime": {
     "end_time": "2025-01-31T06:22:50.253612Z",
     "start_time": "2025-01-31T06:22:50.251039Z"
    }
   },
   "cell_type": "code",
   "source": [
    "forward_rows = forward_matrix.values\n",
    "forward_log_returns = np.log(forward_rows.T[1:]/forward_rows.T[:-1]).T\n",
    "forward_cov = np.cov(forward_log_returns)\n",
    "forward_cov"
   ],
   "outputs": [
    {
     "data": {
      "text/plain": [
       "array([[0.00094262, 0.00061051, 0.00064834, 0.00079544],\n",
       "       [0.00061051, 0.00063615, 0.00058021, 0.00056898],\n",
       "       [0.00064834, 0.00058021, 0.00062542, 0.00063477],\n",
       "       [0.00079544, 0.00056898, 0.00063477, 0.00073688]])"
      ]
     },
     "execution_count": 234,
     "metadata": {},
     "output_type": "execute_result"
    }
   ],
   "execution_count": 234
  },
  {
   "metadata": {},
   "cell_type": "markdown",
   "source": "6 - Eigenvalues & Eigenvectors"
  },
  {
   "metadata": {
    "ExecuteTime": {
     "end_time": "2025-01-31T06:22:50.329572Z",
     "start_time": "2025-01-31T06:22:50.325367Z"
    }
   },
   "cell_type": "code",
   "source": [
    "yield_eigenvalues, yield_eigenvectors = np.linalg.eig(ytm_cov)\n",
    "\n",
    "print(\"Eigenvalues for Covariance Matrix of Yield:\")\n",
    "for i, eigenvalue in enumerate(yield_eigenvalues, 1):\n",
    "    print(f\"  {i}: {eigenvalue:.8e}\")\n",
    "\n",
    "print(\"\\nEigenvectors for Covariance Matrix of Yield:\")\n",
    "for i, eigenvector in enumerate(yield_eigenvectors.T, 1):  # Transpose for easier labeling\n",
    "    print(f\"  {i}: {eigenvector}\")\n"
   ],
   "outputs": [
    {
     "name": "stdout",
     "output_type": "stream",
     "text": [
      "Eigenvalues for Covariance Matrix of Yield:\n",
      "  1: 2.65027180e-03\n",
      "  2: 8.98523602e-05\n",
      "  3: 6.10333908e-05\n",
      "  4: 2.91631527e-06\n",
      "  5: 1.49121178e-05\n",
      "\n",
      "Eigenvectors for Covariance Matrix of Yield:\n",
      "  1: [-0.42284294 -0.46120231 -0.42200135 -0.44916832 -0.47818298]\n",
      "  2: [-0.88702967  0.17310665  0.14765991  0.10601972  0.38751623]\n",
      "  3: [-0.10621205 -0.46710372  0.70723308  0.33683567 -0.39610128]\n",
      "  4: [-0.1517174   0.57270906 -0.21259665  0.43788404 -0.6419084 ]\n",
      "  5: [ 0.00911311 -0.45950513 -0.50471323  0.69412315  0.22853794]\n"
     ]
    }
   ],
   "execution_count": 235
  },
  {
   "metadata": {
    "ExecuteTime": {
     "end_time": "2025-01-31T06:22:50.379504Z",
     "start_time": "2025-01-31T06:22:50.372797Z"
    }
   },
   "cell_type": "code",
   "source": [
    "forward_eigenvalues, forward_eigenvectors = np.linalg.eig(forward_cov)\n",
    "\n",
    "print(\"Eigenvalues for Covariance Matrix of Forward Rates:\")\n",
    "for i, eigenvalue in enumerate(forward_eigenvalues, 1):\n",
    "    print(f\"  {i}: {eigenvalue:.8e}\")\n",
    "\n",
    "print(\"\\nEigenvectors for Covariance Matrix of Forward Rates:\")\n",
    "for i, eigenvector in enumerate(forward_eigenvectors.T, 1):  # Transpose for easier labeling\n",
    "    print(f\"  {i}: {eigenvector}\")\n"
   ],
   "outputs": [
    {
     "name": "stdout",
     "output_type": "stream",
     "text": [
      "Eigenvalues for Covariance Matrix of Forward Rates:\n",
      "  1: 2.67653840e-03\n",
      "  2: 1.94532237e-04\n",
      "  3: 6.13779176e-05\n",
      "  4: 8.61563016e-06\n",
      "\n",
      "Eigenvectors for Covariance Matrix of Forward Rates:\n",
      "  1: [0.56659934 0.44517227 0.46437906 0.51491642]\n",
      "  2: [ 0.60240071 -0.6690951  -0.36181145  0.24190412]\n",
      "  3: [ 0.43614802  0.54330815 -0.56987358 -0.43570089]\n",
      "  4: [ 0.35475834 -0.24279548  0.57331376 -0.6975014 ]\n"
     ]
    }
   ],
   "execution_count": 236
  }
 ],
 "metadata": {
  "kernelspec": {
   "display_name": "Python 3",
   "language": "python",
   "name": "python3"
  },
  "language_info": {
   "codemirror_mode": {
    "name": "ipython",
    "version": 3
   },
   "file_extension": ".py",
   "mimetype": "text/x-python",
   "name": "python",
   "nbconvert_exporter": "python",
   "pygments_lexer": "ipython3",
   "version": "3.13.1"
  }
 },
 "nbformat": 4,
 "nbformat_minor": 2
}
